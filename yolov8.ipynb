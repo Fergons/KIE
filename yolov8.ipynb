{
 "cells": [
  {
   "cell_type": "code",
   "execution_count": 1,
   "metadata": {},
   "outputs": [],
   "source": [
    "import os\n",
    "from ultralytics import YOLO\n",
    "from pylabel import importer\n",
    "import logging\n",
    "logging.getLogger().setLevel(logging.INFO)"
   ]
  },
  {
   "cell_type": "code",
   "execution_count": 6,
   "metadata": {},
   "outputs": [
    {
     "name": "stderr",
     "output_type": "stream",
     "text": [
      "Importing YOLO files...:   0%|          | 0/172 [00:00<?, ?it/s]"
     ]
    },
    {
     "name": "stderr",
     "output_type": "stream",
     "text": [
      "Importing YOLO files...: 100%|██████████| 172/172 [00:05<00:00, 33.38it/s]"
     ]
    },
    {
     "name": "stdout",
     "output_type": "stream",
     "text": [
      "   img_folder      img_filename img_path  img_id  img_width  img_height  \\\n",
      "id                                                                        \n",
      "0   ../images  03ba0d45-429.jpg                0       1240        1744   \n",
      "1   ../images  03ba0d45-429.jpg                0       1240        1744   \n",
      "2   ../images  03ba0d45-429.jpg                0       1240        1744   \n",
      "3   ../images  03ba0d45-429.jpg                0       1240        1744   \n",
      "4   ../images  03ba0d45-429.jpg                0       1240        1744   \n",
      "\n",
      "    img_depth ann_segmented  ann_bbox_xmin  ann_bbox_ymin  ...  ann_iscrowd  \\\n",
      "id                                                         ...                \n",
      "0           3                    78.346810     114.386343  ...                \n",
      "1           3                    75.212938     274.213836  ...                \n",
      "2           3                    78.346810     423.072776  ...                \n",
      "3           3                    84.614555     634.609164  ...                \n",
      "4           3                    76.779874     789.735849  ...                \n",
      "\n",
      "    ann_keypoints  ann_pose  ann_truncated  ann_difficult cat_id cat_name  \\\n",
      "id                                                                          \n",
      "0                                                              8      key   \n",
      "1                                                              8      key   \n",
      "2                                                              8      key   \n",
      "3                                                              8      key   \n",
      "4                                                              8      key   \n",
      "\n",
      "   cat_supercategory split annotated  \n",
      "id                                    \n",
      "0                                  1  \n",
      "1                                  1  \n",
      "2                                  1  \n",
      "3                                  1  \n",
      "4                                  1  \n",
      "\n",
      "[5 rows x 26 columns]\n",
      "Number of images: 172\n",
      "Number of classes: 11\n",
      "Classes:['birth_date', 'death_book', 'death_date', 'funeral_date', 'grave_id', 'grave_location', 'information_source', 'key', 'name', 'nationality', 'rank']\n",
      "Class counts:\n",
      "cat_name\n",
      "key                   1943\n",
      "name                   196\n",
      "death_date             195\n",
      "rank                   190\n",
      "information_source     181\n",
      "birth_date             177\n",
      "death_book             172\n",
      "grave_location         166\n",
      "funeral_date           147\n",
      "nationality            127\n",
      "grave_id                69\n",
      "Name: count, dtype: int64\n"
     ]
    },
    {
     "name": "stderr",
     "output_type": "stream",
     "text": [
      "\n"
     ]
    }
   ],
   "source": [
    "dataset_dir = \"data/VHA_YOLO\"\n",
    "dataset_name = \"174instances\"\n",
    "path_to_yolo_labels = os.path.join(dataset_dir, dataset_name, \"labels\")\n",
    "path_to_images = \"../images\"\n",
    "classes_file = os.path.join(dataset_dir, dataset_name, \"classes.txt\")\n",
    "classes = []\n",
    "with open(classes_file, 'r') as f:\n",
    "    classes = f.read().splitlines()\n",
    "\n",
    "dataset = importer.ImportYoloV5(path=path_to_yolo_labels, path_to_images=path_to_images, cat_names=classes,\n",
    "    img_ext=\"jpg\", name=\"174instances\")\n",
    "print(dataset.df.head(5))\n",
    "print(f\"Number of images: {dataset.analyze.num_images}\")\n",
    "print(f\"Number of classes: {dataset.analyze.num_classes}\")\n",
    "print(f\"Classes:{dataset.analyze.classes}\")\n",
    "print(f\"Class counts:\\n{dataset.analyze.class_counts}\")"
   ]
  },
  {
   "cell_type": "markdown",
   "metadata": {},
   "source": [
    "### Create splits with balanced distribution of classes"
   ]
  },
  {
   "cell_type": "code",
   "execution_count": 9,
   "metadata": {},
   "outputs": [
    {
     "name": "stderr",
     "output_type": "stream",
     "text": [
      "Splitting dataset: 341it [00:01, 173.83it/s]                        \n"
     ]
    }
   ],
   "source": [
    "dataset.splitter.StratifiedGroupShuffleSplit(train_pct=.7, val_pct=.15, test_pct=.15, batch_size=1)\n"
   ]
  },
  {
   "cell_type": "code",
   "execution_count": 11,
   "metadata": {},
   "outputs": [
    {
     "name": "stderr",
     "output_type": "stream",
     "text": [
      "Exporting YOLO files...: 100%|██████████| 172/172 [00:00<00:00, 428.49it/s]\n"
     ]
    },
    {
     "data": {
      "text/plain": [
       "['data\\\\VHA_YOLO\\\\training\\\\dataset.yaml',\n",
       " 'data\\\\VHA_YOLO\\\\training\\\\labels\\\\train\\\\44c1501b-460.txt',\n",
       " 'data\\\\VHA_YOLO\\\\training\\\\labels\\\\train\\\\6dbbd488-459.txt',\n",
       " 'data\\\\VHA_YOLO\\\\training\\\\labels\\\\train\\\\470c8ec1-437.txt',\n",
       " 'data\\\\VHA_YOLO\\\\training\\\\labels\\\\train\\\\0832ad31-363.txt',\n",
       " 'data\\\\VHA_YOLO\\\\training\\\\labels\\\\train\\\\232e977f-468.txt',\n",
       " 'data\\\\VHA_YOLO\\\\training\\\\labels\\\\train\\\\953bdf7c-440.txt',\n",
       " 'data\\\\VHA_YOLO\\\\training\\\\labels\\\\train\\\\62d04c7b-475.txt',\n",
       " 'data\\\\VHA_YOLO\\\\training\\\\labels\\\\train\\\\21237200-478.txt',\n",
       " 'data\\\\VHA_YOLO\\\\training\\\\labels\\\\train\\\\294099b1-25.txt',\n",
       " 'data\\\\VHA_YOLO\\\\training\\\\labels\\\\train\\\\ac8c5aba-11.txt',\n",
       " 'data\\\\VHA_YOLO\\\\training\\\\labels\\\\train\\\\45377a15-434.txt',\n",
       " 'data\\\\VHA_YOLO\\\\training\\\\labels\\\\train\\\\7a882af3-28.txt',\n",
       " 'data\\\\VHA_YOLO\\\\training\\\\labels\\\\train\\\\0d4d491a-206.txt',\n",
       " 'data\\\\VHA_YOLO\\\\training\\\\labels\\\\train\\\\aee5f126-340.txt',\n",
       " 'data\\\\VHA_YOLO\\\\training\\\\labels\\\\train\\\\e1544fb2-477.txt',\n",
       " 'data\\\\VHA_YOLO\\\\training\\\\labels\\\\train\\\\45f0dfb4-42.txt',\n",
       " 'data\\\\VHA_YOLO\\\\training\\\\labels\\\\train\\\\a7117a41-488.txt',\n",
       " 'data\\\\VHA_YOLO\\\\training\\\\labels\\\\train\\\\bdde93c6-271.txt',\n",
       " 'data\\\\VHA_YOLO\\\\training\\\\labels\\\\train\\\\b8b70f45-443.txt',\n",
       " 'data\\\\VHA_YOLO\\\\training\\\\labels\\\\train\\\\dc4ced53-465.txt',\n",
       " 'data\\\\VHA_YOLO\\\\training\\\\labels\\\\train\\\\f142fd71-395.txt',\n",
       " 'data\\\\VHA_YOLO\\\\training\\\\labels\\\\train\\\\68272b45-35.txt',\n",
       " 'data\\\\VHA_YOLO\\\\training\\\\labels\\\\train\\\\ca446308-436.txt',\n",
       " 'data\\\\VHA_YOLO\\\\training\\\\labels\\\\train\\\\fed416e8-29.txt',\n",
       " 'data\\\\VHA_YOLO\\\\training\\\\labels\\\\train\\\\5f3ac825-432.txt',\n",
       " 'data\\\\VHA_YOLO\\\\training\\\\labels\\\\train\\\\5071af8b-161.txt',\n",
       " 'data\\\\VHA_YOLO\\\\training\\\\labels\\\\train\\\\826063f7-325.txt',\n",
       " 'data\\\\VHA_YOLO\\\\training\\\\labels\\\\train\\\\17242368-354.txt',\n",
       " 'data\\\\VHA_YOLO\\\\training\\\\labels\\\\train\\\\c9473cee-346.txt',\n",
       " 'data\\\\VHA_YOLO\\\\training\\\\labels\\\\train\\\\6aa33fd2-33.txt',\n",
       " 'data\\\\VHA_YOLO\\\\training\\\\labels\\\\train\\\\b8d2574f-12.txt',\n",
       " 'data\\\\VHA_YOLO\\\\training\\\\labels\\\\train\\\\956d7576-44.txt',\n",
       " 'data\\\\VHA_YOLO\\\\training\\\\labels\\\\train\\\\13e08af7-235.txt',\n",
       " 'data\\\\VHA_YOLO\\\\training\\\\labels\\\\train\\\\8a635bfe-243.txt',\n",
       " 'data\\\\VHA_YOLO\\\\training\\\\labels\\\\train\\\\4a7f2f40-8.txt',\n",
       " 'data\\\\VHA_YOLO\\\\training\\\\labels\\\\train\\\\a3887445-24.txt',\n",
       " 'data\\\\VHA_YOLO\\\\training\\\\labels\\\\train\\\\22f4ddd5-14.txt',\n",
       " 'data\\\\VHA_YOLO\\\\training\\\\labels\\\\train\\\\fe02c736-461.txt',\n",
       " 'data\\\\VHA_YOLO\\\\training\\\\labels\\\\train\\\\935badbd-499.txt',\n",
       " 'data\\\\VHA_YOLO\\\\training\\\\labels\\\\train\\\\3e0124b6-251.txt',\n",
       " 'data\\\\VHA_YOLO\\\\training\\\\labels\\\\train\\\\5b553476-39.txt',\n",
       " 'data\\\\VHA_YOLO\\\\training\\\\labels\\\\train\\\\f978a44d-463.txt',\n",
       " 'data\\\\VHA_YOLO\\\\training\\\\labels\\\\train\\\\24724207-467.txt',\n",
       " 'data\\\\VHA_YOLO\\\\training\\\\labels\\\\train\\\\df9367f7-268.txt',\n",
       " 'data\\\\VHA_YOLO\\\\training\\\\labels\\\\train\\\\566a5958-479.txt',\n",
       " 'data\\\\VHA_YOLO\\\\training\\\\labels\\\\train\\\\3caf1777-458.txt',\n",
       " 'data\\\\VHA_YOLO\\\\training\\\\labels\\\\train\\\\60cb892a-495.txt',\n",
       " 'data\\\\VHA_YOLO\\\\training\\\\labels\\\\train\\\\19bd5325-247.txt',\n",
       " 'data\\\\VHA_YOLO\\\\training\\\\labels\\\\train\\\\989e0b44-469.txt',\n",
       " 'data\\\\VHA_YOLO\\\\training\\\\labels\\\\train\\\\b65f6a2e-427.txt',\n",
       " 'data\\\\VHA_YOLO\\\\training\\\\labels\\\\train\\\\3e573a23-19.txt',\n",
       " 'data\\\\VHA_YOLO\\\\training\\\\labels\\\\train\\\\1d8befdf-485.txt',\n",
       " 'data\\\\VHA_YOLO\\\\training\\\\labels\\\\train\\\\7b4a171f-360.txt',\n",
       " 'data\\\\VHA_YOLO\\\\training\\\\labels\\\\train\\\\12865a92-40.txt',\n",
       " 'data\\\\VHA_YOLO\\\\training\\\\labels\\\\train\\\\25d55923-456.txt',\n",
       " 'data\\\\VHA_YOLO\\\\training\\\\labels\\\\train\\\\1af97a96-500.txt',\n",
       " 'data\\\\VHA_YOLO\\\\training\\\\labels\\\\train\\\\50ae42e5-5.txt',\n",
       " 'data\\\\VHA_YOLO\\\\training\\\\labels\\\\train\\\\131fddde-6.txt',\n",
       " 'data\\\\VHA_YOLO\\\\training\\\\labels\\\\train\\\\3eb0ba11-484.txt',\n",
       " 'data\\\\VHA_YOLO\\\\training\\\\labels\\\\train\\\\f9c28258-451.txt',\n",
       " 'data\\\\VHA_YOLO\\\\training\\\\labels\\\\train\\\\69981356-15.txt',\n",
       " 'data\\\\VHA_YOLO\\\\training\\\\labels\\\\train\\\\9f2f8521-21.txt',\n",
       " 'data\\\\VHA_YOLO\\\\training\\\\labels\\\\train\\\\d263190f-202.txt',\n",
       " 'data\\\\VHA_YOLO\\\\training\\\\labels\\\\train\\\\e57af9cc-412.txt',\n",
       " 'data\\\\VHA_YOLO\\\\training\\\\labels\\\\train\\\\fd19c737-435.txt',\n",
       " 'data\\\\VHA_YOLO\\\\training\\\\labels\\\\train\\\\3cac6f91-492.txt',\n",
       " 'data\\\\VHA_YOLO\\\\training\\\\labels\\\\train\\\\705c0c9e-259.txt',\n",
       " 'data\\\\VHA_YOLO\\\\training\\\\labels\\\\train\\\\ee4c7ce1-250.txt',\n",
       " 'data\\\\VHA_YOLO\\\\training\\\\labels\\\\train\\\\55240016-233.txt',\n",
       " 'data\\\\VHA_YOLO\\\\training\\\\labels\\\\train\\\\eb75ccfb-252.txt',\n",
       " 'data\\\\VHA_YOLO\\\\training\\\\labels\\\\train\\\\078c26ef-244.txt',\n",
       " 'data\\\\VHA_YOLO\\\\training\\\\labels\\\\train\\\\74ac1cc0-3.txt',\n",
       " 'data\\\\VHA_YOLO\\\\training\\\\labels\\\\train\\\\3a2726e8-388.txt',\n",
       " 'data\\\\VHA_YOLO\\\\training\\\\labels\\\\train\\\\a3fe2f33-279.txt',\n",
       " 'data\\\\VHA_YOLO\\\\training\\\\labels\\\\train\\\\46d13054-22.txt',\n",
       " 'data\\\\VHA_YOLO\\\\training\\\\labels\\\\train\\\\5ab19eba-356.txt',\n",
       " 'data\\\\VHA_YOLO\\\\training\\\\labels\\\\train\\\\414fa354-267.txt',\n",
       " 'data\\\\VHA_YOLO\\\\training\\\\labels\\\\train\\\\1f61004e-236.txt',\n",
       " 'data\\\\VHA_YOLO\\\\training\\\\labels\\\\train\\\\03ba0d45-429.txt',\n",
       " 'data\\\\VHA_YOLO\\\\training\\\\labels\\\\train\\\\6c76838b-480.txt',\n",
       " 'data\\\\VHA_YOLO\\\\training\\\\labels\\\\train\\\\d9ba2ef2-258.txt',\n",
       " 'data\\\\VHA_YOLO\\\\training\\\\labels\\\\train\\\\296a20d8-300.txt',\n",
       " 'data\\\\VHA_YOLO\\\\training\\\\labels\\\\train\\\\7335b764-10.txt',\n",
       " 'data\\\\VHA_YOLO\\\\training\\\\labels\\\\train\\\\e48fee7a-31.txt',\n",
       " 'data\\\\VHA_YOLO\\\\training\\\\labels\\\\train\\\\0ac5c984-41.txt',\n",
       " 'data\\\\VHA_YOLO\\\\training\\\\labels\\\\train\\\\6b465534-217.txt',\n",
       " 'data\\\\VHA_YOLO\\\\training\\\\labels\\\\train\\\\c4aba94e-449.txt',\n",
       " 'data\\\\VHA_YOLO\\\\training\\\\labels\\\\train\\\\2faa2106-239.txt',\n",
       " 'data\\\\VHA_YOLO\\\\training\\\\labels\\\\train\\\\463d45fc-27.txt',\n",
       " 'data\\\\VHA_YOLO\\\\training\\\\labels\\\\train\\\\d3365f00-472.txt',\n",
       " 'data\\\\VHA_YOLO\\\\training\\\\labels\\\\train\\\\8caeab62-445.txt',\n",
       " 'data\\\\VHA_YOLO\\\\training\\\\labels\\\\train\\\\6001c52d-20.txt',\n",
       " 'data\\\\VHA_YOLO\\\\training\\\\labels\\\\train\\\\88552e86-482.txt',\n",
       " 'data\\\\VHA_YOLO\\\\training\\\\labels\\\\train\\\\4c0b9e9d-471.txt',\n",
       " 'data\\\\VHA_YOLO\\\\training\\\\labels\\\\train\\\\0957f4f0-13.txt',\n",
       " 'data\\\\VHA_YOLO\\\\training\\\\labels\\\\train\\\\85f269ec-498.txt',\n",
       " 'data\\\\VHA_YOLO\\\\training\\\\labels\\\\train\\\\20ceb832-4.txt',\n",
       " 'data\\\\VHA_YOLO\\\\training\\\\labels\\\\train\\\\30c46938-336.txt',\n",
       " 'data\\\\VHA_YOLO\\\\training\\\\labels\\\\train\\\\c6add0a4-281.txt',\n",
       " 'data\\\\VHA_YOLO\\\\training\\\\labels\\\\train\\\\9859d40b-101.txt',\n",
       " 'data\\\\VHA_YOLO\\\\training\\\\labels\\\\train\\\\5f433529-446.txt',\n",
       " 'data\\\\VHA_YOLO\\\\training\\\\labels\\\\train\\\\6f5c3759-494.txt',\n",
       " 'data\\\\VHA_YOLO\\\\training\\\\labels\\\\train\\\\d9bb3d8b-447.txt',\n",
       " 'data\\\\VHA_YOLO\\\\training\\\\labels\\\\train\\\\8446a46b-439.txt',\n",
       " 'data\\\\VHA_YOLO\\\\training\\\\labels\\\\train\\\\8d290eb8-428.txt',\n",
       " 'data\\\\VHA_YOLO\\\\training\\\\labels\\\\train\\\\97864217-409.txt',\n",
       " 'data\\\\VHA_YOLO\\\\training\\\\labels\\\\train\\\\276621b9-308.txt',\n",
       " 'data\\\\VHA_YOLO\\\\training\\\\labels\\\\train\\\\68872a31-249.txt',\n",
       " 'data\\\\VHA_YOLO\\\\training\\\\labels\\\\train\\\\d0504988-430.txt',\n",
       " 'data\\\\VHA_YOLO\\\\training\\\\labels\\\\train\\\\8decfe07-385.txt',\n",
       " 'data\\\\VHA_YOLO\\\\training\\\\labels\\\\train\\\\4c5acebd-36.txt',\n",
       " 'data\\\\VHA_YOLO\\\\training\\\\labels\\\\train\\\\7ed6e0cd-16.txt',\n",
       " 'data\\\\VHA_YOLO\\\\training\\\\labels\\\\test\\\\ab48c11b-9.txt',\n",
       " 'data\\\\VHA_YOLO\\\\training\\\\labels\\\\test\\\\0cc57ad3-262.txt',\n",
       " 'data\\\\VHA_YOLO\\\\training\\\\labels\\\\test\\\\6bafe585-126.txt',\n",
       " 'data\\\\VHA_YOLO\\\\training\\\\labels\\\\test\\\\8300ca75-444.txt',\n",
       " 'data\\\\VHA_YOLO\\\\training\\\\labels\\\\test\\\\4aca2766-23.txt',\n",
       " 'data\\\\VHA_YOLO\\\\training\\\\labels\\\\test\\\\b19eaa9a-474.txt',\n",
       " 'data\\\\VHA_YOLO\\\\training\\\\labels\\\\test\\\\b6915e3e-473.txt',\n",
       " 'data\\\\VHA_YOLO\\\\training\\\\labels\\\\test\\\\abd23389-450.txt',\n",
       " 'data\\\\VHA_YOLO\\\\training\\\\labels\\\\test\\\\65b781b8-487.txt',\n",
       " 'data\\\\VHA_YOLO\\\\training\\\\labels\\\\test\\\\a4fb124f-489.txt',\n",
       " 'data\\\\VHA_YOLO\\\\training\\\\labels\\\\test\\\\2e2071a5-457.txt',\n",
       " 'data\\\\VHA_YOLO\\\\training\\\\labels\\\\test\\\\25ba8a39-30.txt',\n",
       " 'data\\\\VHA_YOLO\\\\training\\\\labels\\\\test\\\\493e6ee3-493.txt',\n",
       " 'data\\\\VHA_YOLO\\\\training\\\\labels\\\\test\\\\3ceb2090-448.txt',\n",
       " 'data\\\\VHA_YOLO\\\\training\\\\labels\\\\test\\\\3458c7f9-470.txt',\n",
       " 'data\\\\VHA_YOLO\\\\training\\\\labels\\\\test\\\\a0e94926-414.txt',\n",
       " 'data\\\\VHA_YOLO\\\\training\\\\labels\\\\test\\\\74d88b04-464.txt',\n",
       " 'data\\\\VHA_YOLO\\\\training\\\\labels\\\\test\\\\f3201fe8-376.txt',\n",
       " 'data\\\\VHA_YOLO\\\\training\\\\labels\\\\test\\\\7cc661de-483.txt',\n",
       " 'data\\\\VHA_YOLO\\\\training\\\\labels\\\\test\\\\db726f5c-438.txt',\n",
       " 'data\\\\VHA_YOLO\\\\training\\\\labels\\\\test\\\\b53d630f-2.txt',\n",
       " 'data\\\\VHA_YOLO\\\\training\\\\labels\\\\test\\\\2b0cd4b4-17.txt',\n",
       " 'data\\\\VHA_YOLO\\\\training\\\\labels\\\\test\\\\2605389a-387.txt',\n",
       " 'data\\\\VHA_YOLO\\\\training\\\\labels\\\\test\\\\926e88e4-37.txt',\n",
       " 'data\\\\VHA_YOLO\\\\training\\\\labels\\\\test\\\\75c55783-43.txt',\n",
       " 'data\\\\VHA_YOLO\\\\training\\\\labels\\\\test\\\\8f1f163f-453.txt',\n",
       " 'data\\\\VHA_YOLO\\\\training\\\\labels\\\\test\\\\d4c737fc-486.txt',\n",
       " 'data\\\\VHA_YOLO\\\\training\\\\labels\\\\test\\\\71fff961-442.txt',\n",
       " 'data\\\\VHA_YOLO\\\\training\\\\labels\\\\test\\\\addfbdf0-403.txt',\n",
       " 'data\\\\VHA_YOLO\\\\training\\\\labels\\\\test\\\\387e9518-256.txt',\n",
       " 'data\\\\VHA_YOLO\\\\training\\\\labels\\\\test\\\\be04c82b-18.txt',\n",
       " 'data\\\\VHA_YOLO\\\\training\\\\labels\\\\test\\\\616d57ac-242.txt',\n",
       " 'data\\\\VHA_YOLO\\\\training\\\\labels\\\\val\\\\8ab9d8ca-481.txt',\n",
       " 'data\\\\VHA_YOLO\\\\training\\\\labels\\\\val\\\\8634cacb-1.txt',\n",
       " 'data\\\\VHA_YOLO\\\\training\\\\labels\\\\val\\\\5ab518c6-344.txt',\n",
       " 'data\\\\VHA_YOLO\\\\training\\\\labels\\\\val\\\\432d4a18-38.txt',\n",
       " 'data\\\\VHA_YOLO\\\\training\\\\labels\\\\val\\\\db7968fe-270.txt',\n",
       " 'data\\\\VHA_YOLO\\\\training\\\\labels\\\\val\\\\13333868-241.txt',\n",
       " 'data\\\\VHA_YOLO\\\\training\\\\labels\\\\val\\\\2efb77f7-490.txt',\n",
       " 'data\\\\VHA_YOLO\\\\training\\\\labels\\\\val\\\\f0116b0e-491.txt',\n",
       " 'data\\\\VHA_YOLO\\\\training\\\\labels\\\\val\\\\24b6cd61-431.txt',\n",
       " 'data\\\\VHA_YOLO\\\\training\\\\labels\\\\val\\\\95805c32-368.txt',\n",
       " 'data\\\\VHA_YOLO\\\\training\\\\labels\\\\val\\\\e8e66f5d-335.txt',\n",
       " 'data\\\\VHA_YOLO\\\\training\\\\labels\\\\val\\\\51056791-452.txt',\n",
       " 'data\\\\VHA_YOLO\\\\training\\\\labels\\\\val\\\\f45f1b74-496.txt',\n",
       " 'data\\\\VHA_YOLO\\\\training\\\\labels\\\\val\\\\22483c5f-26.txt',\n",
       " 'data\\\\VHA_YOLO\\\\training\\\\labels\\\\val\\\\b70f448e-455.txt',\n",
       " 'data\\\\VHA_YOLO\\\\training\\\\labels\\\\val\\\\4d0d1841-433.txt',\n",
       " 'data\\\\VHA_YOLO\\\\training\\\\labels\\\\val\\\\207002ba-454.txt',\n",
       " 'data\\\\VHA_YOLO\\\\training\\\\labels\\\\val\\\\61959056-232.txt',\n",
       " 'data\\\\VHA_YOLO\\\\training\\\\labels\\\\val\\\\170c8f77-466.txt',\n",
       " 'data\\\\VHA_YOLO\\\\training\\\\labels\\\\val\\\\a8ca6fb3-323.txt',\n",
       " 'data\\\\VHA_YOLO\\\\training\\\\labels\\\\val\\\\7daa79fa-441.txt',\n",
       " 'data\\\\VHA_YOLO\\\\training\\\\labels\\\\val\\\\2fff99f6-424.txt',\n",
       " 'data\\\\VHA_YOLO\\\\training\\\\labels\\\\val\\\\b0c66bbb-32.txt',\n",
       " 'data\\\\VHA_YOLO\\\\training\\\\labels\\\\val\\\\6c0d9971-7.txt',\n",
       " 'data\\\\VHA_YOLO\\\\training\\\\labels\\\\val\\\\1b6b6e2c-497.txt',\n",
       " 'data\\\\VHA_YOLO\\\\training\\\\labels\\\\val\\\\9ee2803d-476.txt',\n",
       " 'data\\\\VHA_YOLO\\\\training\\\\labels\\\\val\\\\714642cb-462.txt',\n",
       " 'data\\\\VHA_YOLO\\\\training\\\\labels\\\\val\\\\ac502e38-276.txt']"
      ]
     },
     "execution_count": 11,
     "metadata": {},
     "output_type": "execute_result"
    }
   ],
   "source": [
    "dataset.export.ExportToYoloV5(output_path='data/VHA_YOLO/training/labels',yaml_file='dataset.yaml', copy_images=True, use_splits=True)"
   ]
  },
  {
   "cell_type": "code",
   "execution_count": 2,
   "metadata": {},
   "outputs": [
    {
     "name": "stdout",
     "output_type": "stream",
     "text": [
      "\n",
      "      Epoch    GPU_mem   box_loss   cls_loss   dfl_loss  Instances       Size\n"
     ]
    },
    {
     "name": "stderr",
     "output_type": "stream",
     "text": [
      "    229/500      2.63G     0.9278     0.6622     0.9379        590        640: 100%|██████████| 7/7 [00:00<00:00, 18.09it/s]\n",
      "                 Class     Images  Instances      Box(P          R      mAP50  mAP50-95): 100%|██████████| 1/1 [00:00<00:00, 11.61it/s]"
     ]
    },
    {
     "name": "stdout",
     "output_type": "stream",
     "text": [
      "                   all         28        597      0.691      0.777      0.737      0.464\n"
     ]
    },
    {
     "name": "stderr",
     "output_type": "stream",
     "text": [
      "\n"
     ]
    },
    {
     "name": "stdout",
     "output_type": "stream",
     "text": [
      "\n",
      "      Epoch    GPU_mem   box_loss   cls_loss   dfl_loss  Instances       Size\n"
     ]
    },
    {
     "name": "stderr",
     "output_type": "stream",
     "text": [
      "    230/500      2.52G     0.9186     0.6543     0.9319        519        640: 100%|██████████| 7/7 [00:00<00:00, 17.24it/s]\n",
      "                 Class     Images  Instances      Box(P          R      mAP50  mAP50-95): 100%|██████████| 1/1 [00:00<00:00, 13.74it/s]"
     ]
    },
    {
     "name": "stdout",
     "output_type": "stream",
     "text": [
      "                   all         28        597      0.719      0.744      0.735      0.461\n"
     ]
    },
    {
     "name": "stderr",
     "output_type": "stream",
     "text": [
      "\n"
     ]
    },
    {
     "name": "stdout",
     "output_type": "stream",
     "text": [
      "\n",
      "      Epoch    GPU_mem   box_loss   cls_loss   dfl_loss  Instances       Size\n"
     ]
    },
    {
     "name": "stderr",
     "output_type": "stream",
     "text": [
      "    231/500      2.73G     0.9372     0.6615     0.9387        626        640: 100%|██████████| 7/7 [00:00<00:00, 15.86it/s]\n",
      "                 Class     Images  Instances      Box(P          R      mAP50  mAP50-95): 100%|██████████| 1/1 [00:00<00:00, 12.77it/s]"
     ]
    },
    {
     "name": "stdout",
     "output_type": "stream",
     "text": [
      "                   all         28        597      0.706      0.744      0.735      0.458\n"
     ]
    },
    {
     "name": "stderr",
     "output_type": "stream",
     "text": [
      "\n"
     ]
    },
    {
     "name": "stdout",
     "output_type": "stream",
     "text": [
      "\n",
      "      Epoch    GPU_mem   box_loss   cls_loss   dfl_loss  Instances       Size\n"
     ]
    },
    {
     "name": "stderr",
     "output_type": "stream",
     "text": [
      "    232/500      2.48G     0.9424     0.6716     0.9327        594        640: 100%|██████████| 7/7 [00:00<00:00, 16.47it/s]\n",
      "                 Class     Images  Instances      Box(P          R      mAP50  mAP50-95): 100%|██████████| 1/1 [00:00<00:00, 12.35it/s]"
     ]
    },
    {
     "name": "stdout",
     "output_type": "stream",
     "text": [
      "                   all         28        597      0.697      0.748      0.735      0.458\n"
     ]
    },
    {
     "name": "stderr",
     "output_type": "stream",
     "text": [
      "\n"
     ]
    },
    {
     "name": "stdout",
     "output_type": "stream",
     "text": [
      "\n",
      "      Epoch    GPU_mem   box_loss   cls_loss   dfl_loss  Instances       Size\n"
     ]
    },
    {
     "name": "stderr",
     "output_type": "stream",
     "text": [
      "    233/500      2.86G     0.9274     0.6785     0.9322        730        640: 100%|██████████| 7/7 [00:00<00:00, 15.93it/s]\n",
      "                 Class     Images  Instances      Box(P          R      mAP50  mAP50-95): 100%|██████████| 1/1 [00:00<00:00, 11.02it/s]"
     ]
    },
    {
     "name": "stdout",
     "output_type": "stream",
     "text": [
      "                   all         28        597      0.729      0.711      0.729      0.453\n"
     ]
    },
    {
     "name": "stderr",
     "output_type": "stream",
     "text": [
      "\n"
     ]
    },
    {
     "name": "stdout",
     "output_type": "stream",
     "text": [
      "\n",
      "      Epoch    GPU_mem   box_loss   cls_loss   dfl_loss  Instances       Size\n"
     ]
    },
    {
     "name": "stderr",
     "output_type": "stream",
     "text": [
      "    234/500      2.77G     0.9388     0.6725     0.9361        622        640: 100%|██████████| 7/7 [00:00<00:00, 15.70it/s]\n",
      "                 Class     Images  Instances      Box(P          R      mAP50  mAP50-95): 100%|██████████| 1/1 [00:00<00:00, 11.64it/s]"
     ]
    },
    {
     "name": "stdout",
     "output_type": "stream",
     "text": [
      "                   all         28        597      0.716      0.705      0.699      0.424\n"
     ]
    },
    {
     "name": "stderr",
     "output_type": "stream",
     "text": [
      "\n"
     ]
    },
    {
     "name": "stdout",
     "output_type": "stream",
     "text": [
      "\n",
      "      Epoch    GPU_mem   box_loss   cls_loss   dfl_loss  Instances       Size\n"
     ]
    },
    {
     "name": "stderr",
     "output_type": "stream",
     "text": [
      "    235/500      2.48G     0.9308     0.6691     0.9452        467        640: 100%|██████████| 7/7 [00:00<00:00, 16.56it/s]\n",
      "                 Class     Images  Instances      Box(P          R      mAP50  mAP50-95): 100%|██████████| 1/1 [00:00<00:00, 13.42it/s]"
     ]
    },
    {
     "name": "stdout",
     "output_type": "stream",
     "text": [
      "                   all         28        597      0.699      0.734      0.701      0.436\n"
     ]
    },
    {
     "name": "stderr",
     "output_type": "stream",
     "text": [
      "\n"
     ]
    },
    {
     "name": "stdout",
     "output_type": "stream",
     "text": [
      "\n",
      "      Epoch    GPU_mem   box_loss   cls_loss   dfl_loss  Instances       Size\n"
     ]
    },
    {
     "name": "stderr",
     "output_type": "stream",
     "text": [
      "    236/500      2.67G      0.907     0.6562     0.9357        542        640: 100%|██████████| 7/7 [00:00<00:00, 17.44it/s]\n",
      "                 Class     Images  Instances      Box(P          R      mAP50  mAP50-95): 100%|██████████| 1/1 [00:00<00:00, 14.29it/s]"
     ]
    },
    {
     "name": "stdout",
     "output_type": "stream",
     "text": [
      "                   all         28        597        0.7      0.732      0.707      0.429\n"
     ]
    },
    {
     "name": "stderr",
     "output_type": "stream",
     "text": [
      "\n"
     ]
    },
    {
     "name": "stdout",
     "output_type": "stream",
     "text": [
      "\n",
      "      Epoch    GPU_mem   box_loss   cls_loss   dfl_loss  Instances       Size\n"
     ]
    },
    {
     "name": "stderr",
     "output_type": "stream",
     "text": [
      "    237/500      2.42G     0.9061     0.6545     0.9381        532        640: 100%|██████████| 7/7 [00:00<00:00, 16.02it/s]\n",
      "                 Class     Images  Instances      Box(P          R      mAP50  mAP50-95): 100%|██████████| 1/1 [00:00<00:00, 14.49it/s]"
     ]
    },
    {
     "name": "stdout",
     "output_type": "stream",
     "text": [
      "                   all         28        597      0.711      0.723      0.706      0.432\n"
     ]
    },
    {
     "name": "stderr",
     "output_type": "stream",
     "text": [
      "\n"
     ]
    },
    {
     "name": "stdout",
     "output_type": "stream",
     "text": [
      "\n",
      "      Epoch    GPU_mem   box_loss   cls_loss   dfl_loss  Instances       Size\n"
     ]
    },
    {
     "name": "stderr",
     "output_type": "stream",
     "text": [
      "    238/500      2.65G     0.9355     0.6675      0.944        496        640: 100%|██████████| 7/7 [00:00<00:00, 16.96it/s]\n",
      "                 Class     Images  Instances      Box(P          R      mAP50  mAP50-95): 100%|██████████| 1/1 [00:00<00:00, 13.50it/s]"
     ]
    },
    {
     "name": "stdout",
     "output_type": "stream",
     "text": [
      "                   all         28        597      0.678      0.769      0.699      0.428\n"
     ]
    },
    {
     "name": "stderr",
     "output_type": "stream",
     "text": [
      "\n"
     ]
    },
    {
     "name": "stdout",
     "output_type": "stream",
     "text": [
      "\n",
      "      Epoch    GPU_mem   box_loss   cls_loss   dfl_loss  Instances       Size\n"
     ]
    },
    {
     "name": "stderr",
     "output_type": "stream",
     "text": [
      "    239/500      2.82G     0.9237      0.662     0.9341        655        640: 100%|██████████| 7/7 [00:00<00:00, 15.72it/s]\n",
      "                 Class     Images  Instances      Box(P          R      mAP50  mAP50-95): 100%|██████████| 1/1 [00:00<00:00, 14.70it/s]"
     ]
    },
    {
     "name": "stdout",
     "output_type": "stream",
     "text": [
      "                   all         28        597      0.658      0.779      0.699      0.436\n"
     ]
    },
    {
     "name": "stderr",
     "output_type": "stream",
     "text": [
      "\n"
     ]
    },
    {
     "name": "stdout",
     "output_type": "stream",
     "text": [
      "\n",
      "      Epoch    GPU_mem   box_loss   cls_loss   dfl_loss  Instances       Size\n"
     ]
    },
    {
     "name": "stderr",
     "output_type": "stream",
     "text": [
      "    240/500      2.55G     0.8945     0.6439     0.9299        408        640: 100%|██████████| 7/7 [00:00<00:00, 15.90it/s]\n",
      "                 Class     Images  Instances      Box(P          R      mAP50  mAP50-95): 100%|██████████| 1/1 [00:00<00:00, 12.58it/s]"
     ]
    },
    {
     "name": "stdout",
     "output_type": "stream",
     "text": [
      "                   all         28        597      0.626      0.789      0.708      0.438\n"
     ]
    },
    {
     "name": "stderr",
     "output_type": "stream",
     "text": [
      "\n"
     ]
    },
    {
     "name": "stdout",
     "output_type": "stream",
     "text": [
      "\n",
      "      Epoch    GPU_mem   box_loss   cls_loss   dfl_loss  Instances       Size\n"
     ]
    },
    {
     "name": "stderr",
     "output_type": "stream",
     "text": [
      "    241/500      2.81G     0.9036     0.6417     0.9281        689        640: 100%|██████████| 7/7 [00:00<00:00, 15.31it/s]\n",
      "                 Class     Images  Instances      Box(P          R      mAP50  mAP50-95): 100%|██████████| 1/1 [00:00<00:00, 14.78it/s]"
     ]
    },
    {
     "name": "stdout",
     "output_type": "stream",
     "text": [
      "                   all         28        597      0.678      0.706      0.714      0.435\n"
     ]
    },
    {
     "name": "stderr",
     "output_type": "stream",
     "text": [
      "\n"
     ]
    },
    {
     "name": "stdout",
     "output_type": "stream",
     "text": [
      "\n",
      "      Epoch    GPU_mem   box_loss   cls_loss   dfl_loss  Instances       Size\n"
     ]
    },
    {
     "name": "stderr",
     "output_type": "stream",
     "text": [
      "    242/500      2.56G     0.9291     0.6595     0.9351        574        640: 100%|██████████| 7/7 [00:00<00:00, 17.12it/s]\n",
      "                 Class     Images  Instances      Box(P          R      mAP50  mAP50-95): 100%|██████████| 1/1 [00:00<00:00, 12.19it/s]"
     ]
    },
    {
     "name": "stdout",
     "output_type": "stream",
     "text": [
      "                   all         28        597      0.697      0.724      0.721      0.434\n"
     ]
    },
    {
     "name": "stderr",
     "output_type": "stream",
     "text": [
      "\n"
     ]
    },
    {
     "name": "stdout",
     "output_type": "stream",
     "text": [
      "\n",
      "      Epoch    GPU_mem   box_loss   cls_loss   dfl_loss  Instances       Size\n"
     ]
    },
    {
     "name": "stderr",
     "output_type": "stream",
     "text": [
      "    243/500      2.52G     0.9076     0.6526     0.9354        548        640: 100%|██████████| 7/7 [00:00<00:00, 16.86it/s]\n",
      "                 Class     Images  Instances      Box(P          R      mAP50  mAP50-95): 100%|██████████| 1/1 [00:00<00:00, 14.09it/s]"
     ]
    },
    {
     "name": "stdout",
     "output_type": "stream",
     "text": [
      "                   all         28        597       0.69      0.738      0.707      0.436\n"
     ]
    },
    {
     "name": "stderr",
     "output_type": "stream",
     "text": [
      "\n"
     ]
    },
    {
     "name": "stdout",
     "output_type": "stream",
     "text": [
      "\n",
      "      Epoch    GPU_mem   box_loss   cls_loss   dfl_loss  Instances       Size\n"
     ]
    },
    {
     "name": "stderr",
     "output_type": "stream",
     "text": [
      "    244/500      2.56G     0.8966     0.6424     0.9299        624        640: 100%|██████████| 7/7 [00:00<00:00, 17.31it/s]\n",
      "                 Class     Images  Instances      Box(P          R      mAP50  mAP50-95): 100%|██████████| 1/1 [00:00<00:00, 14.11it/s]"
     ]
    },
    {
     "name": "stdout",
     "output_type": "stream",
     "text": [
      "                   all         28        597      0.674      0.773      0.703      0.435\n"
     ]
    },
    {
     "name": "stderr",
     "output_type": "stream",
     "text": [
      "\n"
     ]
    },
    {
     "name": "stdout",
     "output_type": "stream",
     "text": [
      "\n",
      "      Epoch    GPU_mem   box_loss   cls_loss   dfl_loss  Instances       Size\n"
     ]
    },
    {
     "name": "stderr",
     "output_type": "stream",
     "text": [
      "    245/500      2.53G     0.9028     0.6535     0.9365        632        640: 100%|██████████| 7/7 [00:00<00:00, 18.39it/s]\n",
      "                 Class     Images  Instances      Box(P          R      mAP50  mAP50-95): 100%|██████████| 1/1 [00:00<00:00, 13.71it/s]"
     ]
    },
    {
     "name": "stdout",
     "output_type": "stream",
     "text": [
      "                   all         28        597      0.677       0.76      0.696      0.431\n"
     ]
    },
    {
     "name": "stderr",
     "output_type": "stream",
     "text": [
      "\n"
     ]
    },
    {
     "name": "stdout",
     "output_type": "stream",
     "text": [
      "\n",
      "      Epoch    GPU_mem   box_loss   cls_loss   dfl_loss  Instances       Size\n"
     ]
    },
    {
     "name": "stderr",
     "output_type": "stream",
     "text": [
      "    246/500      2.52G     0.9073     0.6477     0.9308        576        640: 100%|██████████| 7/7 [00:00<00:00, 17.18it/s]\n",
      "                 Class     Images  Instances      Box(P          R      mAP50  mAP50-95): 100%|██████████| 1/1 [00:00<00:00, 14.19it/s]"
     ]
    },
    {
     "name": "stdout",
     "output_type": "stream",
     "text": [
      "                   all         28        597      0.636      0.771      0.699      0.434\n"
     ]
    },
    {
     "name": "stderr",
     "output_type": "stream",
     "text": [
      "\n"
     ]
    },
    {
     "name": "stdout",
     "output_type": "stream",
     "text": [
      "\n",
      "      Epoch    GPU_mem   box_loss   cls_loss   dfl_loss  Instances       Size\n"
     ]
    },
    {
     "name": "stderr",
     "output_type": "stream",
     "text": [
      "    247/500      2.54G     0.9052     0.6524     0.9359        644        640: 100%|██████████| 7/7 [00:00<00:00, 15.83it/s]\n",
      "                 Class     Images  Instances      Box(P          R      mAP50  mAP50-95): 100%|██████████| 1/1 [00:00<00:00, 14.36it/s]"
     ]
    },
    {
     "name": "stdout",
     "output_type": "stream",
     "text": [
      "                   all         28        597      0.672      0.737      0.709      0.451\n"
     ]
    },
    {
     "name": "stderr",
     "output_type": "stream",
     "text": [
      "\n"
     ]
    },
    {
     "name": "stdout",
     "output_type": "stream",
     "text": [
      "\n",
      "      Epoch    GPU_mem   box_loss   cls_loss   dfl_loss  Instances       Size\n"
     ]
    },
    {
     "name": "stderr",
     "output_type": "stream",
     "text": [
      "    248/500      2.86G     0.9043     0.6405     0.9265        613        640: 100%|██████████| 7/7 [00:00<00:00, 16.83it/s]\n",
      "                 Class     Images  Instances      Box(P          R      mAP50  mAP50-95): 100%|██████████| 1/1 [00:00<00:00, 13.79it/s]"
     ]
    },
    {
     "name": "stdout",
     "output_type": "stream",
     "text": [
      "                   all         28        597      0.657      0.744      0.708      0.452\n"
     ]
    },
    {
     "name": "stderr",
     "output_type": "stream",
     "text": [
      "\n"
     ]
    },
    {
     "name": "stdout",
     "output_type": "stream",
     "text": [
      "\n",
      "      Epoch    GPU_mem   box_loss   cls_loss   dfl_loss  Instances       Size\n"
     ]
    },
    {
     "name": "stderr",
     "output_type": "stream",
     "text": [
      "    249/500      2.53G     0.9007     0.6459     0.9349        541        640: 100%|██████████| 7/7 [00:00<00:00, 17.45it/s]\n",
      "                 Class     Images  Instances      Box(P          R      mAP50  mAP50-95): 100%|██████████| 1/1 [00:00<00:00, 14.00it/s]\n"
     ]
    },
    {
     "name": "stdout",
     "output_type": "stream",
     "text": [
      "                   all         28        597      0.653      0.737      0.704      0.445\n",
      "\n",
      "      Epoch    GPU_mem   box_loss   cls_loss   dfl_loss  Instances       Size\n"
     ]
    },
    {
     "name": "stderr",
     "output_type": "stream",
     "text": [
      "    250/500      2.79G     0.9279     0.6618     0.9384        623        640: 100%|██████████| 7/7 [00:00<00:00, 16.99it/s]\n",
      "                 Class     Images  Instances      Box(P          R      mAP50  mAP50-95): 100%|██████████| 1/1 [00:00<00:00, 14.78it/s]"
     ]
    },
    {
     "name": "stdout",
     "output_type": "stream",
     "text": [
      "                   all         28        597      0.651      0.739      0.694      0.435\n"
     ]
    },
    {
     "name": "stderr",
     "output_type": "stream",
     "text": [
      "\n"
     ]
    },
    {
     "name": "stdout",
     "output_type": "stream",
     "text": [
      "\n",
      "      Epoch    GPU_mem   box_loss   cls_loss   dfl_loss  Instances       Size\n"
     ]
    },
    {
     "name": "stderr",
     "output_type": "stream",
     "text": [
      "    251/500      2.52G     0.9007      0.637     0.9354        577        640: 100%|██████████| 7/7 [00:00<00:00, 17.56it/s]\n",
      "                 Class     Images  Instances      Box(P          R      mAP50  mAP50-95): 100%|██████████| 1/1 [00:00<00:00, 14.53it/s]"
     ]
    },
    {
     "name": "stdout",
     "output_type": "stream",
     "text": [
      "                   all         28        597      0.676      0.717      0.686      0.427\n"
     ]
    },
    {
     "name": "stderr",
     "output_type": "stream",
     "text": [
      "\n"
     ]
    },
    {
     "name": "stdout",
     "output_type": "stream",
     "text": [
      "\n",
      "      Epoch    GPU_mem   box_loss   cls_loss   dfl_loss  Instances       Size\n"
     ]
    },
    {
     "name": "stderr",
     "output_type": "stream",
     "text": [
      "    252/500      2.56G     0.9133     0.6564     0.9369        559        640: 100%|██████████| 7/7 [00:00<00:00, 16.50it/s]\n",
      "                 Class     Images  Instances      Box(P          R      mAP50  mAP50-95): 100%|██████████| 1/1 [00:00<00:00, 13.68it/s]"
     ]
    },
    {
     "name": "stdout",
     "output_type": "stream",
     "text": [
      "                   all         28        597      0.682      0.725      0.685      0.425\n"
     ]
    },
    {
     "name": "stderr",
     "output_type": "stream",
     "text": [
      "\n"
     ]
    },
    {
     "name": "stdout",
     "output_type": "stream",
     "text": [
      "\n",
      "      Epoch    GPU_mem   box_loss   cls_loss   dfl_loss  Instances       Size\n"
     ]
    },
    {
     "name": "stderr",
     "output_type": "stream",
     "text": [
      "    253/500      2.51G     0.9022     0.6444     0.9315        507        640: 100%|██████████| 7/7 [00:00<00:00, 17.93it/s]\n",
      "                 Class     Images  Instances      Box(P          R      mAP50  mAP50-95): 100%|██████████| 1/1 [00:00<00:00, 13.13it/s]"
     ]
    },
    {
     "name": "stdout",
     "output_type": "stream",
     "text": [
      "                   all         28        597       0.68       0.72      0.686      0.423\n"
     ]
    },
    {
     "name": "stderr",
     "output_type": "stream",
     "text": [
      "\n"
     ]
    },
    {
     "name": "stdout",
     "output_type": "stream",
     "text": [
      "\n",
      "      Epoch    GPU_mem   box_loss   cls_loss   dfl_loss  Instances       Size\n"
     ]
    },
    {
     "name": "stderr",
     "output_type": "stream",
     "text": [
      "    254/500      2.68G     0.8787     0.6245      0.921        550        640: 100%|██████████| 7/7 [00:00<00:00, 16.90it/s]\n",
      "                 Class     Images  Instances      Box(P          R      mAP50  mAP50-95): 100%|██████████| 1/1 [00:00<00:00, 14.41it/s]"
     ]
    },
    {
     "name": "stdout",
     "output_type": "stream",
     "text": [
      "                   all         28        597      0.726      0.692      0.698      0.429\n"
     ]
    },
    {
     "name": "stderr",
     "output_type": "stream",
     "text": [
      "\n"
     ]
    },
    {
     "name": "stdout",
     "output_type": "stream",
     "text": [
      "\n",
      "      Epoch    GPU_mem   box_loss   cls_loss   dfl_loss  Instances       Size\n"
     ]
    },
    {
     "name": "stderr",
     "output_type": "stream",
     "text": [
      "    255/500      2.99G     0.8908     0.6504      0.935        580        640: 100%|██████████| 7/7 [00:00<00:00, 15.52it/s]\n",
      "                 Class     Images  Instances      Box(P          R      mAP50  mAP50-95): 100%|██████████| 1/1 [00:00<00:00, 14.29it/s]"
     ]
    },
    {
     "name": "stdout",
     "output_type": "stream",
     "text": [
      "                   all         28        597      0.687      0.737      0.697       0.44\n"
     ]
    },
    {
     "name": "stderr",
     "output_type": "stream",
     "text": [
      "\n"
     ]
    },
    {
     "name": "stdout",
     "output_type": "stream",
     "text": [
      "\n",
      "      Epoch    GPU_mem   box_loss   cls_loss   dfl_loss  Instances       Size\n"
     ]
    },
    {
     "name": "stderr",
     "output_type": "stream",
     "text": [
      "    256/500      2.55G      0.887     0.6284     0.9268        554        640: 100%|██████████| 7/7 [00:00<00:00, 16.87it/s]\n",
      "                 Class     Images  Instances      Box(P          R      mAP50  mAP50-95): 100%|██████████| 1/1 [00:00<00:00, 13.50it/s]"
     ]
    },
    {
     "name": "stdout",
     "output_type": "stream",
     "text": [
      "                   all         28        597      0.707      0.723      0.711      0.447\n"
     ]
    },
    {
     "name": "stderr",
     "output_type": "stream",
     "text": [
      "\n"
     ]
    },
    {
     "name": "stdout",
     "output_type": "stream",
     "text": [
      "\n",
      "      Epoch    GPU_mem   box_loss   cls_loss   dfl_loss  Instances       Size\n"
     ]
    },
    {
     "name": "stderr",
     "output_type": "stream",
     "text": [
      "    257/500      2.71G     0.8897     0.6366     0.9258        685        640: 100%|██████████| 7/7 [00:00<00:00, 16.00it/s]\n",
      "                 Class     Images  Instances      Box(P          R      mAP50  mAP50-95): 100%|██████████| 1/1 [00:00<00:00, 13.33it/s]"
     ]
    },
    {
     "name": "stdout",
     "output_type": "stream",
     "text": [
      "                   all         28        597      0.706      0.731      0.711      0.444\n"
     ]
    },
    {
     "name": "stderr",
     "output_type": "stream",
     "text": [
      "\n"
     ]
    },
    {
     "name": "stdout",
     "output_type": "stream",
     "text": [
      "\n",
      "      Epoch    GPU_mem   box_loss   cls_loss   dfl_loss  Instances       Size\n"
     ]
    },
    {
     "name": "stderr",
     "output_type": "stream",
     "text": [
      "    258/500      2.55G     0.9066      0.641     0.9338        579        640: 100%|██████████| 7/7 [00:00<00:00, 16.49it/s]\n",
      "                 Class     Images  Instances      Box(P          R      mAP50  mAP50-95): 100%|██████████| 1/1 [00:00<00:00, 11.08it/s]"
     ]
    },
    {
     "name": "stdout",
     "output_type": "stream",
     "text": [
      "                   all         28        597      0.707       0.73      0.712      0.439\n"
     ]
    },
    {
     "name": "stderr",
     "output_type": "stream",
     "text": [
      "\n"
     ]
    },
    {
     "name": "stdout",
     "output_type": "stream",
     "text": [
      "\n",
      "      Epoch    GPU_mem   box_loss   cls_loss   dfl_loss  Instances       Size\n"
     ]
    },
    {
     "name": "stderr",
     "output_type": "stream",
     "text": [
      "    259/500      2.82G     0.8929     0.6368     0.9285        594        640: 100%|██████████| 7/7 [00:00<00:00, 16.64it/s]\n",
      "                 Class     Images  Instances      Box(P          R      mAP50  mAP50-95): 100%|██████████| 1/1 [00:00<00:00, 13.91it/s]"
     ]
    },
    {
     "name": "stdout",
     "output_type": "stream",
     "text": [
      "                   all         28        597      0.682      0.762      0.712      0.443\n"
     ]
    },
    {
     "name": "stderr",
     "output_type": "stream",
     "text": [
      "\n"
     ]
    },
    {
     "name": "stdout",
     "output_type": "stream",
     "text": [
      "\n",
      "      Epoch    GPU_mem   box_loss   cls_loss   dfl_loss  Instances       Size\n"
     ]
    },
    {
     "name": "stderr",
     "output_type": "stream",
     "text": [
      "    260/500      2.47G      0.884     0.6361     0.9294        510        640: 100%|██████████| 7/7 [00:00<00:00, 16.15it/s]\n",
      "                 Class     Images  Instances      Box(P          R      mAP50  mAP50-95): 100%|██████████| 1/1 [00:00<00:00, 11.58it/s]"
     ]
    },
    {
     "name": "stdout",
     "output_type": "stream",
     "text": [
      "                   all         28        597      0.633      0.808      0.705      0.441\n"
     ]
    },
    {
     "name": "stderr",
     "output_type": "stream",
     "text": [
      "\n"
     ]
    },
    {
     "name": "stdout",
     "output_type": "stream",
     "text": [
      "\n",
      "      Epoch    GPU_mem   box_loss   cls_loss   dfl_loss  Instances       Size\n"
     ]
    },
    {
     "name": "stderr",
     "output_type": "stream",
     "text": [
      "    261/500      2.82G     0.8859     0.6405     0.9285        515        640: 100%|██████████| 7/7 [00:00<00:00, 17.09it/s]\n",
      "                 Class     Images  Instances      Box(P          R      mAP50  mAP50-95): 100%|██████████| 1/1 [00:00<00:00, 13.26it/s]"
     ]
    },
    {
     "name": "stdout",
     "output_type": "stream",
     "text": [
      "                   all         28        597      0.655      0.769      0.701      0.439\n",
      "\u001b[34m\u001b[1mEarlyStopping: \u001b[0mTraining stopped early as no improvement observed in last 100 epochs. Best results observed at epoch 161, best model saved as best.pt.\n",
      "To update EarlyStopping(patience=100) pass a new patience value, i.e. `patience=300` or use `patience=0` to disable EarlyStopping.\n"
     ]
    },
    {
     "name": "stderr",
     "output_type": "stream",
     "text": [
      "\n"
     ]
    },
    {
     "name": "stdout",
     "output_type": "stream",
     "text": [
      "\n",
      "261 epochs completed in 0.065 hours.\n",
      "Optimizer stripped from c:\\Users\\Fergons\\Desktop\\KNN\\KIE-1\\runs\\detect\\train7\\weights\\last.pt, 6.3MB\n",
      "Optimizer stripped from c:\\Users\\Fergons\\Desktop\\KNN\\KIE-1\\runs\\detect\\train7\\weights\\best.pt, 6.3MB\n",
      "\n",
      "Validating c:\\Users\\Fergons\\Desktop\\KNN\\KIE-1\\runs\\detect\\train7\\weights\\best.pt...\n",
      "Ultralytics YOLOv8.2.2  Python-3.8.10 torch-2.3.0+cu118 CUDA:0 (NVIDIA GeForce RTX 4090, 24564MiB)\n",
      "Model summary (fused): 168 layers, 3007988 parameters, 0 gradients, 8.1 GFLOPs\n"
     ]
    },
    {
     "name": "stderr",
     "output_type": "stream",
     "text": [
      "                 Class     Images  Instances      Box(P          R      mAP50  mAP50-95): 100%|██████████| 1/1 [00:00<00:00,  7.36it/s]\n"
     ]
    },
    {
     "name": "stdout",
     "output_type": "stream",
     "text": [
      "                   all         28        597      0.709      0.753      0.771      0.473\n",
      "            birth_date         28         34      0.555      0.647      0.534      0.282\n",
      "            death_book         28         28      0.858      0.929      0.904      0.669\n",
      "            death_date         28         36      0.475      0.306      0.387      0.203\n",
      "          funeral_date         28         24      0.883      0.958      0.969      0.604\n",
      "              grave_id         28         11      0.866      0.909      0.976        0.6\n",
      "        grave_location         28         27       0.63      0.815      0.827      0.518\n",
      "    information_source         28         30      0.558      0.631      0.699      0.401\n",
      "                   key         28        323      0.803      0.842      0.877      0.528\n",
      "                  name         28         33      0.776      0.879      0.816      0.591\n",
      "           nationality         28         21      0.818      0.641      0.809      0.399\n",
      "                  rank         28         30      0.578       0.73       0.68      0.407\n",
      "Speed: 0.1ms preprocess, 0.4ms inference, 0.0ms loss, 0.6ms postprocess per image\n",
      "Results saved to \u001b[1mc:\\Users\\Fergons\\Desktop\\KNN\\KIE-1\\runs\\detect\\train7\u001b[0m\n",
      "Ultralytics YOLOv8.2.2  Python-3.8.10 torch-2.3.0+cu118 CUDA:0 (NVIDIA GeForce RTX 4090, 24564MiB)\n",
      "Model summary (fused): 168 layers, 3007988 parameters, 0 gradients, 8.1 GFLOPs\n"
     ]
    },
    {
     "name": "stderr",
     "output_type": "stream",
     "text": [
      "\u001b[34m\u001b[1mval: \u001b[0mScanning C:\\Users\\Fergons\\Desktop\\KNN\\KIE-1\\data\\VHA_YOLO\\training\\labels\\val.cache... 28 images, 0 backgrounds, 0 corrupt: 100%|██████████| 28/28 [00:00<?, ?it/s]"
     ]
    },
    {
     "name": "stdout",
     "output_type": "stream",
     "text": [
      "\u001b[34m\u001b[1mval: \u001b[0mWARNING  C:\\Users\\Fergons\\Desktop\\KNN\\KIE-1\\data\\VHA_YOLO\\training\\images\\val\\1b6b6e2c-497.jpg: corrupt JPEG restored and saved\n",
      "\u001b[34m\u001b[1mval: \u001b[0mWARNING  C:\\Users\\Fergons\\Desktop\\KNN\\KIE-1\\data\\VHA_YOLO\\training\\images\\val\\207002ba-454.jpg: corrupt JPEG restored and saved\n",
      "\u001b[34m\u001b[1mval: \u001b[0mWARNING  C:\\Users\\Fergons\\Desktop\\KNN\\KIE-1\\data\\VHA_YOLO\\training\\images\\val\\22483c5f-26.jpg: corrupt JPEG restored and saved\n",
      "\u001b[34m\u001b[1mval: \u001b[0mWARNING  C:\\Users\\Fergons\\Desktop\\KNN\\KIE-1\\data\\VHA_YOLO\\training\\images\\val\\24b6cd61-431.jpg: corrupt JPEG restored and saved\n",
      "\u001b[34m\u001b[1mval: \u001b[0mWARNING  C:\\Users\\Fergons\\Desktop\\KNN\\KIE-1\\data\\VHA_YOLO\\training\\images\\val\\4d0d1841-433.jpg: corrupt JPEG restored and saved\n",
      "\u001b[34m\u001b[1mval: \u001b[0mWARNING  C:\\Users\\Fergons\\Desktop\\KNN\\KIE-1\\data\\VHA_YOLO\\training\\images\\val\\51056791-452.jpg: corrupt JPEG restored and saved\n",
      "\u001b[34m\u001b[1mval: \u001b[0mWARNING  C:\\Users\\Fergons\\Desktop\\KNN\\KIE-1\\data\\VHA_YOLO\\training\\images\\val\\8ab9d8ca-481.jpg: corrupt JPEG restored and saved\n",
      "\u001b[34m\u001b[1mval: \u001b[0mWARNING  C:\\Users\\Fergons\\Desktop\\KNN\\KIE-1\\data\\VHA_YOLO\\training\\images\\val\\95805c32-368.jpg: corrupt JPEG restored and saved\n",
      "\u001b[34m\u001b[1mval: \u001b[0mWARNING  C:\\Users\\Fergons\\Desktop\\KNN\\KIE-1\\data\\VHA_YOLO\\training\\images\\val\\9ee2803d-476.jpg: corrupt JPEG restored and saved\n",
      "\u001b[34m\u001b[1mval: \u001b[0mWARNING  C:\\Users\\Fergons\\Desktop\\KNN\\KIE-1\\data\\VHA_YOLO\\training\\images\\val\\ac502e38-276.jpg: corrupt JPEG restored and saved\n",
      "\u001b[34m\u001b[1mval: \u001b[0mWARNING  C:\\Users\\Fergons\\Desktop\\KNN\\KIE-1\\data\\VHA_YOLO\\training\\images\\val\\b0c66bbb-32.jpg: corrupt JPEG restored and saved\n",
      "\u001b[34m\u001b[1mval: \u001b[0mWARNING  C:\\Users\\Fergons\\Desktop\\KNN\\KIE-1\\data\\VHA_YOLO\\training\\images\\val\\db7968fe-270.jpg: corrupt JPEG restored and saved\n",
      "\u001b[34m\u001b[1mval: \u001b[0mWARNING  C:\\Users\\Fergons\\Desktop\\KNN\\KIE-1\\data\\VHA_YOLO\\training\\images\\val\\f0116b0e-491.jpg: corrupt JPEG restored and saved\n",
      "\u001b[34m\u001b[1mval: \u001b[0mWARNING  C:\\Users\\Fergons\\Desktop\\KNN\\KIE-1\\data\\VHA_YOLO\\training\\images\\val\\f45f1b74-496.jpg: corrupt JPEG restored and saved\n"
     ]
    },
    {
     "name": "stderr",
     "output_type": "stream",
     "text": [
      "\n",
      "                 Class     Images  Instances      Box(P          R      mAP50  mAP50-95):   0%|          | 0/2 [00:00<?, ?it/s]c:\\Users\\Fergons\\Desktop\\KNN\\KIE-1\\.venv\\lib\\site-packages\\torch\\nn\\modules\\conv.py:456: UserWarning: Plan failed with a cudnnException: CUDNN_BACKEND_EXECUTION_PLAN_DESCRIPTOR: cudnnFinalize Descriptor Failed cudnn_status: CUDNN_STATUS_NOT_SUPPORTED (Triggered internally at C:\\actions-runner\\_work\\pytorch\\pytorch\\builder\\windows\\pytorch\\aten\\src\\ATen\\native\\cudnn\\Conv_v8.cpp:919.)\n",
      "  return F.conv2d(input, weight, bias, self.stride,\n",
      "                 Class     Images  Instances      Box(P          R      mAP50  mAP50-95): 100%|██████████| 2/2 [00:03<00:00,  1.90s/it]\n"
     ]
    },
    {
     "name": "stdout",
     "output_type": "stream",
     "text": [
      "                   all         28        597      0.711      0.748       0.77      0.473\n",
      "            birth_date         28         34      0.563      0.647      0.535      0.281\n",
      "            death_book         28         28       0.86      0.929      0.904      0.669\n",
      "            death_date         28         36      0.498      0.306      0.385      0.198\n",
      "          funeral_date         28         24       0.88      0.958      0.969      0.617\n",
      "              grave_id         28         11      0.869      0.909      0.976      0.618\n",
      "        grave_location         28         27      0.635      0.815      0.827      0.514\n",
      "    information_source         28         30      0.542      0.592      0.696       0.39\n",
      "                   key         28        323      0.805      0.842      0.877      0.527\n",
      "                  name         28         33      0.778      0.879      0.816      0.587\n",
      "           nationality         28         21      0.817      0.637      0.808      0.399\n",
      "                  rank         28         30      0.571      0.711       0.68      0.402\n",
      "Speed: 0.2ms preprocess, 11.3ms inference, 0.0ms loss, 0.9ms postprocess per image\n",
      "Results saved to \u001b[1mc:\\Users\\Fergons\\Desktop\\KNN\\KIE-1\\runs\\detect\\train72\u001b[0m\n",
      "Ultralytics YOLOv8.2.2  Python-3.8.10 torch-2.3.0+cu118 CPU (13th Gen Intel Core(TM) i9-13900K)\n",
      "\n",
      "\u001b[34m\u001b[1mPyTorch:\u001b[0m starting from 'c:\\Users\\Fergons\\Desktop\\KNN\\KIE-1\\runs\\detect\\train7\\weights\\best.pt' with input shape (1, 3, 640, 640) BCHW and output shape(s) (1, 16, 8400) (6.0 MB)\n",
      "\n",
      "\u001b[34m\u001b[1mONNX:\u001b[0m starting export with onnx 1.16.0 opset 17...\n",
      "\u001b[34m\u001b[1mONNX:\u001b[0m export success  0.4s, saved as 'c:\\Users\\Fergons\\Desktop\\KNN\\KIE-1\\runs\\detect\\train7\\weights\\best.onnx' (11.7 MB)\n",
      "\n",
      "Export complete (1.9s)\n",
      "Results saved to \u001b[1mC:\\Users\\Fergons\\Desktop\\KNN\\KIE-1\\runs\\detect\\train7\\weights\u001b[0m\n",
      "Predict:         yolo predict task=detect model=c:\\Users\\Fergons\\Desktop\\KNN\\KIE-1\\runs\\detect\\train7\\weights\\best.onnx imgsz=640  \n",
      "Validate:        yolo val task=detect model=c:\\Users\\Fergons\\Desktop\\KNN\\KIE-1\\runs\\detect\\train7\\weights\\best.onnx imgsz=640 data=data/VHA_YOLO/training/dataset.yaml  \n",
      "Visualize:       https://netron.app\n"
     ]
    },
    {
     "data": {
      "text/plain": [
       "'c:\\\\Users\\\\Fergons\\\\Desktop\\\\KNN\\\\KIE-1\\\\runs\\\\detect\\\\train7\\\\weights\\\\best.onnx'"
      ]
     },
     "execution_count": 2,
     "metadata": {},
     "output_type": "execute_result"
    }
   ],
   "source": [
    "\n",
    "model = YOLO('yolov8n.yaml')\n",
    "model = YOLO('yolov8n.pt')\n",
    "results = model.train(data='data/VHA_YOLO/training/dataset.yaml', epochs=500)\n",
    "results = model.val()\n",
    "success = model.export(format='onnx')\n",
    "success\n"
   ]
  },
  {
   "cell_type": "code",
   "execution_count": 3,
   "metadata": {},
   "outputs": [
    {
     "name": "stdout",
     "output_type": "stream",
     "text": [
      "Ultralytics YOLOv8.2.2  Python-3.8.10 torch-2.3.0+cu118 CUDA:0 (NVIDIA GeForce RTX 4090, 24564MiB)\n"
     ]
    },
    {
     "name": "stderr",
     "output_type": "stream",
     "text": [
      "\u001b[34m\u001b[1mval: \u001b[0mScanning C:\\Users\\Fergons\\Desktop\\KNN\\KIE-1\\data\\VHA_YOLO\\training\\labels\\val.cache... 28 images, 0 backgrounds, 0 corrupt: 100%|██████████| 28/28 [00:00<?, ?it/s]"
     ]
    },
    {
     "name": "stdout",
     "output_type": "stream",
     "text": [
      "\u001b[34m\u001b[1mval: \u001b[0mWARNING  C:\\Users\\Fergons\\Desktop\\KNN\\KIE-1\\data\\VHA_YOLO\\training\\images\\val\\1b6b6e2c-497.jpg: corrupt JPEG restored and saved\n",
      "\u001b[34m\u001b[1mval: \u001b[0mWARNING  C:\\Users\\Fergons\\Desktop\\KNN\\KIE-1\\data\\VHA_YOLO\\training\\images\\val\\207002ba-454.jpg: corrupt JPEG restored and saved\n",
      "\u001b[34m\u001b[1mval: \u001b[0mWARNING  C:\\Users\\Fergons\\Desktop\\KNN\\KIE-1\\data\\VHA_YOLO\\training\\images\\val\\22483c5f-26.jpg: corrupt JPEG restored and saved\n",
      "\u001b[34m\u001b[1mval: \u001b[0mWARNING  C:\\Users\\Fergons\\Desktop\\KNN\\KIE-1\\data\\VHA_YOLO\\training\\images\\val\\24b6cd61-431.jpg: corrupt JPEG restored and saved\n",
      "\u001b[34m\u001b[1mval: \u001b[0mWARNING  C:\\Users\\Fergons\\Desktop\\KNN\\KIE-1\\data\\VHA_YOLO\\training\\images\\val\\4d0d1841-433.jpg: corrupt JPEG restored and saved\n",
      "\u001b[34m\u001b[1mval: \u001b[0mWARNING  C:\\Users\\Fergons\\Desktop\\KNN\\KIE-1\\data\\VHA_YOLO\\training\\images\\val\\51056791-452.jpg: corrupt JPEG restored and saved\n",
      "\u001b[34m\u001b[1mval: \u001b[0mWARNING  C:\\Users\\Fergons\\Desktop\\KNN\\KIE-1\\data\\VHA_YOLO\\training\\images\\val\\8ab9d8ca-481.jpg: corrupt JPEG restored and saved\n",
      "\u001b[34m\u001b[1mval: \u001b[0mWARNING  C:\\Users\\Fergons\\Desktop\\KNN\\KIE-1\\data\\VHA_YOLO\\training\\images\\val\\95805c32-368.jpg: corrupt JPEG restored and saved\n",
      "\u001b[34m\u001b[1mval: \u001b[0mWARNING  C:\\Users\\Fergons\\Desktop\\KNN\\KIE-1\\data\\VHA_YOLO\\training\\images\\val\\9ee2803d-476.jpg: corrupt JPEG restored and saved\n",
      "\u001b[34m\u001b[1mval: \u001b[0mWARNING  C:\\Users\\Fergons\\Desktop\\KNN\\KIE-1\\data\\VHA_YOLO\\training\\images\\val\\ac502e38-276.jpg: corrupt JPEG restored and saved\n",
      "\u001b[34m\u001b[1mval: \u001b[0mWARNING  C:\\Users\\Fergons\\Desktop\\KNN\\KIE-1\\data\\VHA_YOLO\\training\\images\\val\\b0c66bbb-32.jpg: corrupt JPEG restored and saved\n",
      "\u001b[34m\u001b[1mval: \u001b[0mWARNING  C:\\Users\\Fergons\\Desktop\\KNN\\KIE-1\\data\\VHA_YOLO\\training\\images\\val\\db7968fe-270.jpg: corrupt JPEG restored and saved\n",
      "\u001b[34m\u001b[1mval: \u001b[0mWARNING  C:\\Users\\Fergons\\Desktop\\KNN\\KIE-1\\data\\VHA_YOLO\\training\\images\\val\\f0116b0e-491.jpg: corrupt JPEG restored and saved\n",
      "\u001b[34m\u001b[1mval: \u001b[0mWARNING  C:\\Users\\Fergons\\Desktop\\KNN\\KIE-1\\data\\VHA_YOLO\\training\\images\\val\\f45f1b74-496.jpg: corrupt JPEG restored and saved\n"
     ]
    },
    {
     "name": "stderr",
     "output_type": "stream",
     "text": [
      "\n",
      "                 Class     Images  Instances      Box(P          R      mAP50  mAP50-95): 100%|██████████| 2/2 [00:04<00:00,  2.31s/it]\n"
     ]
    },
    {
     "name": "stdout",
     "output_type": "stream",
     "text": [
      "                   all         28        597      0.711      0.748       0.77      0.473\n",
      "            birth_date         28         34      0.563      0.647      0.535      0.281\n",
      "            death_book         28         28       0.86      0.929      0.904      0.669\n",
      "            death_date         28         36      0.498      0.306      0.385      0.198\n",
      "          funeral_date         28         24       0.88      0.958      0.969      0.617\n",
      "              grave_id         28         11      0.869      0.909      0.976      0.618\n",
      "        grave_location         28         27      0.635      0.815      0.827      0.514\n",
      "    information_source         28         30      0.542      0.592      0.696       0.39\n",
      "                   key         28        323      0.805      0.842      0.877      0.527\n",
      "                  name         28         33      0.778      0.879      0.816      0.587\n",
      "           nationality         28         21      0.817      0.637      0.808      0.399\n",
      "                  rank         28         30      0.571      0.711       0.68      0.402\n",
      "Speed: 1.8ms preprocess, 6.3ms inference, 0.0ms loss, 1.8ms postprocess per image\n",
      "Results saved to \u001b[1mc:\\Users\\Fergons\\Desktop\\KNN\\KIE-1\\runs\\detect\\train73\u001b[0m\n"
     ]
    },
    {
     "data": {
      "text/plain": [
       "ultralytics.utils.metrics.DetMetrics object with attributes:\n",
       "\n",
       "ap_class_index: array([ 0,  1,  2,  3,  4,  5,  7,  8,  9, 10, 11])\n",
       "box: ultralytics.utils.metrics.Metric object\n",
       "confusion_matrix: <ultralytics.utils.metrics.ConfusionMatrix object at 0x0000013EC5279D60>\n",
       "curves: ['Precision-Recall(B)', 'F1-Confidence(B)', 'Precision-Confidence(B)', 'Recall-Confidence(B)']\n",
       "curves_results: [[array([          0,    0.001001,    0.002002,    0.003003,    0.004004,    0.005005,    0.006006,    0.007007,    0.008008,    0.009009,     0.01001,    0.011011,    0.012012,    0.013013,    0.014014,    0.015015,    0.016016,    0.017017,    0.018018,    0.019019,     0.02002,    0.021021,    0.022022,    0.023023,\n",
       "          0.024024,    0.025025,    0.026026,    0.027027,    0.028028,    0.029029,     0.03003,    0.031031,    0.032032,    0.033033,    0.034034,    0.035035,    0.036036,    0.037037,    0.038038,    0.039039,     0.04004,    0.041041,    0.042042,    0.043043,    0.044044,    0.045045,    0.046046,    0.047047,\n",
       "          0.048048,    0.049049,     0.05005,    0.051051,    0.052052,    0.053053,    0.054054,    0.055055,    0.056056,    0.057057,    0.058058,    0.059059,     0.06006,    0.061061,    0.062062,    0.063063,    0.064064,    0.065065,    0.066066,    0.067067,    0.068068,    0.069069,     0.07007,    0.071071,\n",
       "          0.072072,    0.073073,    0.074074,    0.075075,    0.076076,    0.077077,    0.078078,    0.079079,     0.08008,    0.081081,    0.082082,    0.083083,    0.084084,    0.085085,    0.086086,    0.087087,    0.088088,    0.089089,     0.09009,    0.091091,    0.092092,    0.093093,    0.094094,    0.095095,\n",
       "          0.096096,    0.097097,    0.098098,    0.099099,      0.1001,      0.1011,      0.1021,      0.1031,      0.1041,     0.10511,     0.10611,     0.10711,     0.10811,     0.10911,     0.11011,     0.11111,     0.11211,     0.11311,     0.11411,     0.11512,     0.11612,     0.11712,     0.11812,     0.11912,\n",
       "           0.12012,     0.12112,     0.12212,     0.12312,     0.12412,     0.12513,     0.12613,     0.12713,     0.12813,     0.12913,     0.13013,     0.13113,     0.13213,     0.13313,     0.13413,     0.13514,     0.13614,     0.13714,     0.13814,     0.13914,     0.14014,     0.14114,     0.14214,     0.14314,\n",
       "           0.14414,     0.14515,     0.14615,     0.14715,     0.14815,     0.14915,     0.15015,     0.15115,     0.15215,     0.15315,     0.15415,     0.15516,     0.15616,     0.15716,     0.15816,     0.15916,     0.16016,     0.16116,     0.16216,     0.16316,     0.16416,     0.16517,     0.16617,     0.16717,\n",
       "           0.16817,     0.16917,     0.17017,     0.17117,     0.17217,     0.17317,     0.17417,     0.17518,     0.17618,     0.17718,     0.17818,     0.17918,     0.18018,     0.18118,     0.18218,     0.18318,     0.18418,     0.18519,     0.18619,     0.18719,     0.18819,     0.18919,     0.19019,     0.19119,\n",
       "           0.19219,     0.19319,     0.19419,      0.1952,      0.1962,      0.1972,      0.1982,      0.1992,      0.2002,      0.2012,      0.2022,      0.2032,      0.2042,     0.20521,     0.20621,     0.20721,     0.20821,     0.20921,     0.21021,     0.21121,     0.21221,     0.21321,     0.21421,     0.21522,\n",
       "           0.21622,     0.21722,     0.21822,     0.21922,     0.22022,     0.22122,     0.22222,     0.22322,     0.22422,     0.22523,     0.22623,     0.22723,     0.22823,     0.22923,     0.23023,     0.23123,     0.23223,     0.23323,     0.23423,     0.23524,     0.23624,     0.23724,     0.23824,     0.23924,\n",
       "           0.24024,     0.24124,     0.24224,     0.24324,     0.24424,     0.24525,     0.24625,     0.24725,     0.24825,     0.24925,     0.25025,     0.25125,     0.25225,     0.25325,     0.25425,     0.25526,     0.25626,     0.25726,     0.25826,     0.25926,     0.26026,     0.26126,     0.26226,     0.26326,\n",
       "           0.26426,     0.26527,     0.26627,     0.26727,     0.26827,     0.26927,     0.27027,     0.27127,     0.27227,     0.27327,     0.27427,     0.27528,     0.27628,     0.27728,     0.27828,     0.27928,     0.28028,     0.28128,     0.28228,     0.28328,     0.28428,     0.28529,     0.28629,     0.28729,\n",
       "           0.28829,     0.28929,     0.29029,     0.29129,     0.29229,     0.29329,     0.29429,      0.2953,      0.2963,      0.2973,      0.2983,      0.2993,      0.3003,      0.3013,      0.3023,      0.3033,      0.3043,     0.30531,     0.30631,     0.30731,     0.30831,     0.30931,     0.31031,     0.31131,\n",
       "           0.31231,     0.31331,     0.31431,     0.31532,     0.31632,     0.31732,     0.31832,     0.31932,     0.32032,     0.32132,     0.32232,     0.32332,     0.32432,     0.32533,     0.32633,     0.32733,     0.32833,     0.32933,     0.33033,     0.33133,     0.33233,     0.33333,     0.33433,     0.33534,\n",
       "           0.33634,     0.33734,     0.33834,     0.33934,     0.34034,     0.34134,     0.34234,     0.34334,     0.34434,     0.34535,     0.34635,     0.34735,     0.34835,     0.34935,     0.35035,     0.35135,     0.35235,     0.35335,     0.35435,     0.35536,     0.35636,     0.35736,     0.35836,     0.35936,\n",
       "           0.36036,     0.36136,     0.36236,     0.36336,     0.36436,     0.36537,     0.36637,     0.36737,     0.36837,     0.36937,     0.37037,     0.37137,     0.37237,     0.37337,     0.37437,     0.37538,     0.37638,     0.37738,     0.37838,     0.37938,     0.38038,     0.38138,     0.38238,     0.38338,\n",
       "           0.38438,     0.38539,     0.38639,     0.38739,     0.38839,     0.38939,     0.39039,     0.39139,     0.39239,     0.39339,     0.39439,      0.3954,      0.3964,      0.3974,      0.3984,      0.3994,      0.4004,      0.4014,      0.4024,      0.4034,      0.4044,     0.40541,     0.40641,     0.40741,\n",
       "           0.40841,     0.40941,     0.41041,     0.41141,     0.41241,     0.41341,     0.41441,     0.41542,     0.41642,     0.41742,     0.41842,     0.41942,     0.42042,     0.42142,     0.42242,     0.42342,     0.42442,     0.42543,     0.42643,     0.42743,     0.42843,     0.42943,     0.43043,     0.43143,\n",
       "           0.43243,     0.43343,     0.43443,     0.43544,     0.43644,     0.43744,     0.43844,     0.43944,     0.44044,     0.44144,     0.44244,     0.44344,     0.44444,     0.44545,     0.44645,     0.44745,     0.44845,     0.44945,     0.45045,     0.45145,     0.45245,     0.45345,     0.45445,     0.45546,\n",
       "           0.45646,     0.45746,     0.45846,     0.45946,     0.46046,     0.46146,     0.46246,     0.46346,     0.46446,     0.46547,     0.46647,     0.46747,     0.46847,     0.46947,     0.47047,     0.47147,     0.47247,     0.47347,     0.47447,     0.47548,     0.47648,     0.47748,     0.47848,     0.47948,\n",
       "           0.48048,     0.48148,     0.48248,     0.48348,     0.48448,     0.48549,     0.48649,     0.48749,     0.48849,     0.48949,     0.49049,     0.49149,     0.49249,     0.49349,     0.49449,      0.4955,      0.4965,      0.4975,      0.4985,      0.4995,      0.5005,      0.5015,      0.5025,      0.5035,\n",
       "            0.5045,     0.50551,     0.50651,     0.50751,     0.50851,     0.50951,     0.51051,     0.51151,     0.51251,     0.51351,     0.51451,     0.51552,     0.51652,     0.51752,     0.51852,     0.51952,     0.52052,     0.52152,     0.52252,     0.52352,     0.52452,     0.52553,     0.52653,     0.52753,\n",
       "           0.52853,     0.52953,     0.53053,     0.53153,     0.53253,     0.53353,     0.53453,     0.53554,     0.53654,     0.53754,     0.53854,     0.53954,     0.54054,     0.54154,     0.54254,     0.54354,     0.54454,     0.54555,     0.54655,     0.54755,     0.54855,     0.54955,     0.55055,     0.55155,\n",
       "           0.55255,     0.55355,     0.55455,     0.55556,     0.55656,     0.55756,     0.55856,     0.55956,     0.56056,     0.56156,     0.56256,     0.56356,     0.56456,     0.56557,     0.56657,     0.56757,     0.56857,     0.56957,     0.57057,     0.57157,     0.57257,     0.57357,     0.57457,     0.57558,\n",
       "           0.57658,     0.57758,     0.57858,     0.57958,     0.58058,     0.58158,     0.58258,     0.58358,     0.58458,     0.58559,     0.58659,     0.58759,     0.58859,     0.58959,     0.59059,     0.59159,     0.59259,     0.59359,     0.59459,      0.5956,      0.5966,      0.5976,      0.5986,      0.5996,\n",
       "            0.6006,      0.6016,      0.6026,      0.6036,      0.6046,     0.60561,     0.60661,     0.60761,     0.60861,     0.60961,     0.61061,     0.61161,     0.61261,     0.61361,     0.61461,     0.61562,     0.61662,     0.61762,     0.61862,     0.61962,     0.62062,     0.62162,     0.62262,     0.62362,\n",
       "           0.62462,     0.62563,     0.62663,     0.62763,     0.62863,     0.62963,     0.63063,     0.63163,     0.63263,     0.63363,     0.63463,     0.63564,     0.63664,     0.63764,     0.63864,     0.63964,     0.64064,     0.64164,     0.64264,     0.64364,     0.64464,     0.64565,     0.64665,     0.64765,\n",
       "           0.64865,     0.64965,     0.65065,     0.65165,     0.65265,     0.65365,     0.65465,     0.65566,     0.65666,     0.65766,     0.65866,     0.65966,     0.66066,     0.66166,     0.66266,     0.66366,     0.66466,     0.66567,     0.66667,     0.66767,     0.66867,     0.66967,     0.67067,     0.67167,\n",
       "           0.67267,     0.67367,     0.67467,     0.67568,     0.67668,     0.67768,     0.67868,     0.67968,     0.68068,     0.68168,     0.68268,     0.68368,     0.68468,     0.68569,     0.68669,     0.68769,     0.68869,     0.68969,     0.69069,     0.69169,     0.69269,     0.69369,     0.69469,      0.6957,\n",
       "            0.6967,      0.6977,      0.6987,      0.6997,      0.7007,      0.7017,      0.7027,      0.7037,      0.7047,     0.70571,     0.70671,     0.70771,     0.70871,     0.70971,     0.71071,     0.71171,     0.71271,     0.71371,     0.71471,     0.71572,     0.71672,     0.71772,     0.71872,     0.71972,\n",
       "           0.72072,     0.72172,     0.72272,     0.72372,     0.72472,     0.72573,     0.72673,     0.72773,     0.72873,     0.72973,     0.73073,     0.73173,     0.73273,     0.73373,     0.73473,     0.73574,     0.73674,     0.73774,     0.73874,     0.73974,     0.74074,     0.74174,     0.74274,     0.74374,\n",
       "           0.74474,     0.74575,     0.74675,     0.74775,     0.74875,     0.74975,     0.75075,     0.75175,     0.75275,     0.75375,     0.75475,     0.75576,     0.75676,     0.75776,     0.75876,     0.75976,     0.76076,     0.76176,     0.76276,     0.76376,     0.76476,     0.76577,     0.76677,     0.76777,\n",
       "           0.76877,     0.76977,     0.77077,     0.77177,     0.77277,     0.77377,     0.77477,     0.77578,     0.77678,     0.77778,     0.77878,     0.77978,     0.78078,     0.78178,     0.78278,     0.78378,     0.78478,     0.78579,     0.78679,     0.78779,     0.78879,     0.78979,     0.79079,     0.79179,\n",
       "           0.79279,     0.79379,     0.79479,      0.7958,      0.7968,      0.7978,      0.7988,      0.7998,      0.8008,      0.8018,      0.8028,      0.8038,      0.8048,     0.80581,     0.80681,     0.80781,     0.80881,     0.80981,     0.81081,     0.81181,     0.81281,     0.81381,     0.81481,     0.81582,\n",
       "           0.81682,     0.81782,     0.81882,     0.81982,     0.82082,     0.82182,     0.82282,     0.82382,     0.82482,     0.82583,     0.82683,     0.82783,     0.82883,     0.82983,     0.83083,     0.83183,     0.83283,     0.83383,     0.83483,     0.83584,     0.83684,     0.83784,     0.83884,     0.83984,\n",
       "           0.84084,     0.84184,     0.84284,     0.84384,     0.84484,     0.84585,     0.84685,     0.84785,     0.84885,     0.84985,     0.85085,     0.85185,     0.85285,     0.85385,     0.85485,     0.85586,     0.85686,     0.85786,     0.85886,     0.85986,     0.86086,     0.86186,     0.86286,     0.86386,\n",
       "           0.86486,     0.86587,     0.86687,     0.86787,     0.86887,     0.86987,     0.87087,     0.87187,     0.87287,     0.87387,     0.87487,     0.87588,     0.87688,     0.87788,     0.87888,     0.87988,     0.88088,     0.88188,     0.88288,     0.88388,     0.88488,     0.88589,     0.88689,     0.88789,\n",
       "           0.88889,     0.88989,     0.89089,     0.89189,     0.89289,     0.89389,     0.89489,      0.8959,      0.8969,      0.8979,      0.8989,      0.8999,      0.9009,      0.9019,      0.9029,      0.9039,      0.9049,     0.90591,     0.90691,     0.90791,     0.90891,     0.90991,     0.91091,     0.91191,\n",
       "           0.91291,     0.91391,     0.91491,     0.91592,     0.91692,     0.91792,     0.91892,     0.91992,     0.92092,     0.92192,     0.92292,     0.92392,     0.92492,     0.92593,     0.92693,     0.92793,     0.92893,     0.92993,     0.93093,     0.93193,     0.93293,     0.93393,     0.93493,     0.93594,\n",
       "           0.93694,     0.93794,     0.93894,     0.93994,     0.94094,     0.94194,     0.94294,     0.94394,     0.94494,     0.94595,     0.94695,     0.94795,     0.94895,     0.94995,     0.95095,     0.95195,     0.95295,     0.95395,     0.95495,     0.95596,     0.95696,     0.95796,     0.95896,     0.95996,\n",
       "           0.96096,     0.96196,     0.96296,     0.96396,     0.96496,     0.96597,     0.96697,     0.96797,     0.96897,     0.96997,     0.97097,     0.97197,     0.97297,     0.97397,     0.97497,     0.97598,     0.97698,     0.97798,     0.97898,     0.97998,     0.98098,     0.98198,     0.98298,     0.98398,\n",
       "           0.98498,     0.98599,     0.98699,     0.98799,     0.98899,     0.98999,     0.99099,     0.99199,     0.99299,     0.99399,     0.99499,       0.996,       0.997,       0.998,       0.999,           1]), array([[          1,           1,           1, ...,    0.076404,    0.076404,           0],\n",
       "       [          1,           1,           1, ...,    0.073684,    0.073684,           0],\n",
       "       [          1,           1,           1, ...,   0.0043194,   0.0021597,           0],\n",
       "       ...,\n",
       "       [          1,           1,           1, ...,    0.058099,    0.058099,           0],\n",
       "       [          1,           1,           1, ...,    0.061765,    0.061765,           0],\n",
       "       [          1,           1,           1, ...,     0.42254,     0.42254,           0]]), 'Recall', 'Precision'], [array([          0,    0.001001,    0.002002,    0.003003,    0.004004,    0.005005,    0.006006,    0.007007,    0.008008,    0.009009,     0.01001,    0.011011,    0.012012,    0.013013,    0.014014,    0.015015,    0.016016,    0.017017,    0.018018,    0.019019,     0.02002,    0.021021,    0.022022,    0.023023,\n",
       "          0.024024,    0.025025,    0.026026,    0.027027,    0.028028,    0.029029,     0.03003,    0.031031,    0.032032,    0.033033,    0.034034,    0.035035,    0.036036,    0.037037,    0.038038,    0.039039,     0.04004,    0.041041,    0.042042,    0.043043,    0.044044,    0.045045,    0.046046,    0.047047,\n",
       "          0.048048,    0.049049,     0.05005,    0.051051,    0.052052,    0.053053,    0.054054,    0.055055,    0.056056,    0.057057,    0.058058,    0.059059,     0.06006,    0.061061,    0.062062,    0.063063,    0.064064,    0.065065,    0.066066,    0.067067,    0.068068,    0.069069,     0.07007,    0.071071,\n",
       "          0.072072,    0.073073,    0.074074,    0.075075,    0.076076,    0.077077,    0.078078,    0.079079,     0.08008,    0.081081,    0.082082,    0.083083,    0.084084,    0.085085,    0.086086,    0.087087,    0.088088,    0.089089,     0.09009,    0.091091,    0.092092,    0.093093,    0.094094,    0.095095,\n",
       "          0.096096,    0.097097,    0.098098,    0.099099,      0.1001,      0.1011,      0.1021,      0.1031,      0.1041,     0.10511,     0.10611,     0.10711,     0.10811,     0.10911,     0.11011,     0.11111,     0.11211,     0.11311,     0.11411,     0.11512,     0.11612,     0.11712,     0.11812,     0.11912,\n",
       "           0.12012,     0.12112,     0.12212,     0.12312,     0.12412,     0.12513,     0.12613,     0.12713,     0.12813,     0.12913,     0.13013,     0.13113,     0.13213,     0.13313,     0.13413,     0.13514,     0.13614,     0.13714,     0.13814,     0.13914,     0.14014,     0.14114,     0.14214,     0.14314,\n",
       "           0.14414,     0.14515,     0.14615,     0.14715,     0.14815,     0.14915,     0.15015,     0.15115,     0.15215,     0.15315,     0.15415,     0.15516,     0.15616,     0.15716,     0.15816,     0.15916,     0.16016,     0.16116,     0.16216,     0.16316,     0.16416,     0.16517,     0.16617,     0.16717,\n",
       "           0.16817,     0.16917,     0.17017,     0.17117,     0.17217,     0.17317,     0.17417,     0.17518,     0.17618,     0.17718,     0.17818,     0.17918,     0.18018,     0.18118,     0.18218,     0.18318,     0.18418,     0.18519,     0.18619,     0.18719,     0.18819,     0.18919,     0.19019,     0.19119,\n",
       "           0.19219,     0.19319,     0.19419,      0.1952,      0.1962,      0.1972,      0.1982,      0.1992,      0.2002,      0.2012,      0.2022,      0.2032,      0.2042,     0.20521,     0.20621,     0.20721,     0.20821,     0.20921,     0.21021,     0.21121,     0.21221,     0.21321,     0.21421,     0.21522,\n",
       "           0.21622,     0.21722,     0.21822,     0.21922,     0.22022,     0.22122,     0.22222,     0.22322,     0.22422,     0.22523,     0.22623,     0.22723,     0.22823,     0.22923,     0.23023,     0.23123,     0.23223,     0.23323,     0.23423,     0.23524,     0.23624,     0.23724,     0.23824,     0.23924,\n",
       "           0.24024,     0.24124,     0.24224,     0.24324,     0.24424,     0.24525,     0.24625,     0.24725,     0.24825,     0.24925,     0.25025,     0.25125,     0.25225,     0.25325,     0.25425,     0.25526,     0.25626,     0.25726,     0.25826,     0.25926,     0.26026,     0.26126,     0.26226,     0.26326,\n",
       "           0.26426,     0.26527,     0.26627,     0.26727,     0.26827,     0.26927,     0.27027,     0.27127,     0.27227,     0.27327,     0.27427,     0.27528,     0.27628,     0.27728,     0.27828,     0.27928,     0.28028,     0.28128,     0.28228,     0.28328,     0.28428,     0.28529,     0.28629,     0.28729,\n",
       "           0.28829,     0.28929,     0.29029,     0.29129,     0.29229,     0.29329,     0.29429,      0.2953,      0.2963,      0.2973,      0.2983,      0.2993,      0.3003,      0.3013,      0.3023,      0.3033,      0.3043,     0.30531,     0.30631,     0.30731,     0.30831,     0.30931,     0.31031,     0.31131,\n",
       "           0.31231,     0.31331,     0.31431,     0.31532,     0.31632,     0.31732,     0.31832,     0.31932,     0.32032,     0.32132,     0.32232,     0.32332,     0.32432,     0.32533,     0.32633,     0.32733,     0.32833,     0.32933,     0.33033,     0.33133,     0.33233,     0.33333,     0.33433,     0.33534,\n",
       "           0.33634,     0.33734,     0.33834,     0.33934,     0.34034,     0.34134,     0.34234,     0.34334,     0.34434,     0.34535,     0.34635,     0.34735,     0.34835,     0.34935,     0.35035,     0.35135,     0.35235,     0.35335,     0.35435,     0.35536,     0.35636,     0.35736,     0.35836,     0.35936,\n",
       "           0.36036,     0.36136,     0.36236,     0.36336,     0.36436,     0.36537,     0.36637,     0.36737,     0.36837,     0.36937,     0.37037,     0.37137,     0.37237,     0.37337,     0.37437,     0.37538,     0.37638,     0.37738,     0.37838,     0.37938,     0.38038,     0.38138,     0.38238,     0.38338,\n",
       "           0.38438,     0.38539,     0.38639,     0.38739,     0.38839,     0.38939,     0.39039,     0.39139,     0.39239,     0.39339,     0.39439,      0.3954,      0.3964,      0.3974,      0.3984,      0.3994,      0.4004,      0.4014,      0.4024,      0.4034,      0.4044,     0.40541,     0.40641,     0.40741,\n",
       "           0.40841,     0.40941,     0.41041,     0.41141,     0.41241,     0.41341,     0.41441,     0.41542,     0.41642,     0.41742,     0.41842,     0.41942,     0.42042,     0.42142,     0.42242,     0.42342,     0.42442,     0.42543,     0.42643,     0.42743,     0.42843,     0.42943,     0.43043,     0.43143,\n",
       "           0.43243,     0.43343,     0.43443,     0.43544,     0.43644,     0.43744,     0.43844,     0.43944,     0.44044,     0.44144,     0.44244,     0.44344,     0.44444,     0.44545,     0.44645,     0.44745,     0.44845,     0.44945,     0.45045,     0.45145,     0.45245,     0.45345,     0.45445,     0.45546,\n",
       "           0.45646,     0.45746,     0.45846,     0.45946,     0.46046,     0.46146,     0.46246,     0.46346,     0.46446,     0.46547,     0.46647,     0.46747,     0.46847,     0.46947,     0.47047,     0.47147,     0.47247,     0.47347,     0.47447,     0.47548,     0.47648,     0.47748,     0.47848,     0.47948,\n",
       "           0.48048,     0.48148,     0.48248,     0.48348,     0.48448,     0.48549,     0.48649,     0.48749,     0.48849,     0.48949,     0.49049,     0.49149,     0.49249,     0.49349,     0.49449,      0.4955,      0.4965,      0.4975,      0.4985,      0.4995,      0.5005,      0.5015,      0.5025,      0.5035,\n",
       "            0.5045,     0.50551,     0.50651,     0.50751,     0.50851,     0.50951,     0.51051,     0.51151,     0.51251,     0.51351,     0.51451,     0.51552,     0.51652,     0.51752,     0.51852,     0.51952,     0.52052,     0.52152,     0.52252,     0.52352,     0.52452,     0.52553,     0.52653,     0.52753,\n",
       "           0.52853,     0.52953,     0.53053,     0.53153,     0.53253,     0.53353,     0.53453,     0.53554,     0.53654,     0.53754,     0.53854,     0.53954,     0.54054,     0.54154,     0.54254,     0.54354,     0.54454,     0.54555,     0.54655,     0.54755,     0.54855,     0.54955,     0.55055,     0.55155,\n",
       "           0.55255,     0.55355,     0.55455,     0.55556,     0.55656,     0.55756,     0.55856,     0.55956,     0.56056,     0.56156,     0.56256,     0.56356,     0.56456,     0.56557,     0.56657,     0.56757,     0.56857,     0.56957,     0.57057,     0.57157,     0.57257,     0.57357,     0.57457,     0.57558,\n",
       "           0.57658,     0.57758,     0.57858,     0.57958,     0.58058,     0.58158,     0.58258,     0.58358,     0.58458,     0.58559,     0.58659,     0.58759,     0.58859,     0.58959,     0.59059,     0.59159,     0.59259,     0.59359,     0.59459,      0.5956,      0.5966,      0.5976,      0.5986,      0.5996,\n",
       "            0.6006,      0.6016,      0.6026,      0.6036,      0.6046,     0.60561,     0.60661,     0.60761,     0.60861,     0.60961,     0.61061,     0.61161,     0.61261,     0.61361,     0.61461,     0.61562,     0.61662,     0.61762,     0.61862,     0.61962,     0.62062,     0.62162,     0.62262,     0.62362,\n",
       "           0.62462,     0.62563,     0.62663,     0.62763,     0.62863,     0.62963,     0.63063,     0.63163,     0.63263,     0.63363,     0.63463,     0.63564,     0.63664,     0.63764,     0.63864,     0.63964,     0.64064,     0.64164,     0.64264,     0.64364,     0.64464,     0.64565,     0.64665,     0.64765,\n",
       "           0.64865,     0.64965,     0.65065,     0.65165,     0.65265,     0.65365,     0.65465,     0.65566,     0.65666,     0.65766,     0.65866,     0.65966,     0.66066,     0.66166,     0.66266,     0.66366,     0.66466,     0.66567,     0.66667,     0.66767,     0.66867,     0.66967,     0.67067,     0.67167,\n",
       "           0.67267,     0.67367,     0.67467,     0.67568,     0.67668,     0.67768,     0.67868,     0.67968,     0.68068,     0.68168,     0.68268,     0.68368,     0.68468,     0.68569,     0.68669,     0.68769,     0.68869,     0.68969,     0.69069,     0.69169,     0.69269,     0.69369,     0.69469,      0.6957,\n",
       "            0.6967,      0.6977,      0.6987,      0.6997,      0.7007,      0.7017,      0.7027,      0.7037,      0.7047,     0.70571,     0.70671,     0.70771,     0.70871,     0.70971,     0.71071,     0.71171,     0.71271,     0.71371,     0.71471,     0.71572,     0.71672,     0.71772,     0.71872,     0.71972,\n",
       "           0.72072,     0.72172,     0.72272,     0.72372,     0.72472,     0.72573,     0.72673,     0.72773,     0.72873,     0.72973,     0.73073,     0.73173,     0.73273,     0.73373,     0.73473,     0.73574,     0.73674,     0.73774,     0.73874,     0.73974,     0.74074,     0.74174,     0.74274,     0.74374,\n",
       "           0.74474,     0.74575,     0.74675,     0.74775,     0.74875,     0.74975,     0.75075,     0.75175,     0.75275,     0.75375,     0.75475,     0.75576,     0.75676,     0.75776,     0.75876,     0.75976,     0.76076,     0.76176,     0.76276,     0.76376,     0.76476,     0.76577,     0.76677,     0.76777,\n",
       "           0.76877,     0.76977,     0.77077,     0.77177,     0.77277,     0.77377,     0.77477,     0.77578,     0.77678,     0.77778,     0.77878,     0.77978,     0.78078,     0.78178,     0.78278,     0.78378,     0.78478,     0.78579,     0.78679,     0.78779,     0.78879,     0.78979,     0.79079,     0.79179,\n",
       "           0.79279,     0.79379,     0.79479,      0.7958,      0.7968,      0.7978,      0.7988,      0.7998,      0.8008,      0.8018,      0.8028,      0.8038,      0.8048,     0.80581,     0.80681,     0.80781,     0.80881,     0.80981,     0.81081,     0.81181,     0.81281,     0.81381,     0.81481,     0.81582,\n",
       "           0.81682,     0.81782,     0.81882,     0.81982,     0.82082,     0.82182,     0.82282,     0.82382,     0.82482,     0.82583,     0.82683,     0.82783,     0.82883,     0.82983,     0.83083,     0.83183,     0.83283,     0.83383,     0.83483,     0.83584,     0.83684,     0.83784,     0.83884,     0.83984,\n",
       "           0.84084,     0.84184,     0.84284,     0.84384,     0.84484,     0.84585,     0.84685,     0.84785,     0.84885,     0.84985,     0.85085,     0.85185,     0.85285,     0.85385,     0.85485,     0.85586,     0.85686,     0.85786,     0.85886,     0.85986,     0.86086,     0.86186,     0.86286,     0.86386,\n",
       "           0.86486,     0.86587,     0.86687,     0.86787,     0.86887,     0.86987,     0.87087,     0.87187,     0.87287,     0.87387,     0.87487,     0.87588,     0.87688,     0.87788,     0.87888,     0.87988,     0.88088,     0.88188,     0.88288,     0.88388,     0.88488,     0.88589,     0.88689,     0.88789,\n",
       "           0.88889,     0.88989,     0.89089,     0.89189,     0.89289,     0.89389,     0.89489,      0.8959,      0.8969,      0.8979,      0.8989,      0.8999,      0.9009,      0.9019,      0.9029,      0.9039,      0.9049,     0.90591,     0.90691,     0.90791,     0.90891,     0.90991,     0.91091,     0.91191,\n",
       "           0.91291,     0.91391,     0.91491,     0.91592,     0.91692,     0.91792,     0.91892,     0.91992,     0.92092,     0.92192,     0.92292,     0.92392,     0.92492,     0.92593,     0.92693,     0.92793,     0.92893,     0.92993,     0.93093,     0.93193,     0.93293,     0.93393,     0.93493,     0.93594,\n",
       "           0.93694,     0.93794,     0.93894,     0.93994,     0.94094,     0.94194,     0.94294,     0.94394,     0.94494,     0.94595,     0.94695,     0.94795,     0.94895,     0.94995,     0.95095,     0.95195,     0.95295,     0.95395,     0.95495,     0.95596,     0.95696,     0.95796,     0.95896,     0.95996,\n",
       "           0.96096,     0.96196,     0.96296,     0.96396,     0.96496,     0.96597,     0.96697,     0.96797,     0.96897,     0.96997,     0.97097,     0.97197,     0.97297,     0.97397,     0.97497,     0.97598,     0.97698,     0.97798,     0.97898,     0.97998,     0.98098,     0.98198,     0.98298,     0.98398,\n",
       "           0.98498,     0.98599,     0.98699,     0.98799,     0.98899,     0.98999,     0.99099,     0.99199,     0.99299,     0.99399,     0.99499,       0.996,       0.997,       0.998,       0.999,           1]), array([[   0.078161,    0.078194,     0.13542, ...,           0,           0,           0],\n",
       "       [    0.07932,    0.079379,     0.17186, ...,           0,           0,           0],\n",
       "       [     0.1129,      0.1129,     0.18018, ...,           0,           0,           0],\n",
       "       ...,\n",
       "       [   0.094692,    0.094794,       0.171, ...,           0,           0,           0],\n",
       "       [   0.075134,    0.075134,     0.13809, ...,           0,           0,           0],\n",
       "       [   0.074166,    0.074187,     0.13192, ...,           0,           0,           0]]), 'Confidence', 'F1'], [array([          0,    0.001001,    0.002002,    0.003003,    0.004004,    0.005005,    0.006006,    0.007007,    0.008008,    0.009009,     0.01001,    0.011011,    0.012012,    0.013013,    0.014014,    0.015015,    0.016016,    0.017017,    0.018018,    0.019019,     0.02002,    0.021021,    0.022022,    0.023023,\n",
       "          0.024024,    0.025025,    0.026026,    0.027027,    0.028028,    0.029029,     0.03003,    0.031031,    0.032032,    0.033033,    0.034034,    0.035035,    0.036036,    0.037037,    0.038038,    0.039039,     0.04004,    0.041041,    0.042042,    0.043043,    0.044044,    0.045045,    0.046046,    0.047047,\n",
       "          0.048048,    0.049049,     0.05005,    0.051051,    0.052052,    0.053053,    0.054054,    0.055055,    0.056056,    0.057057,    0.058058,    0.059059,     0.06006,    0.061061,    0.062062,    0.063063,    0.064064,    0.065065,    0.066066,    0.067067,    0.068068,    0.069069,     0.07007,    0.071071,\n",
       "          0.072072,    0.073073,    0.074074,    0.075075,    0.076076,    0.077077,    0.078078,    0.079079,     0.08008,    0.081081,    0.082082,    0.083083,    0.084084,    0.085085,    0.086086,    0.087087,    0.088088,    0.089089,     0.09009,    0.091091,    0.092092,    0.093093,    0.094094,    0.095095,\n",
       "          0.096096,    0.097097,    0.098098,    0.099099,      0.1001,      0.1011,      0.1021,      0.1031,      0.1041,     0.10511,     0.10611,     0.10711,     0.10811,     0.10911,     0.11011,     0.11111,     0.11211,     0.11311,     0.11411,     0.11512,     0.11612,     0.11712,     0.11812,     0.11912,\n",
       "           0.12012,     0.12112,     0.12212,     0.12312,     0.12412,     0.12513,     0.12613,     0.12713,     0.12813,     0.12913,     0.13013,     0.13113,     0.13213,     0.13313,     0.13413,     0.13514,     0.13614,     0.13714,     0.13814,     0.13914,     0.14014,     0.14114,     0.14214,     0.14314,\n",
       "           0.14414,     0.14515,     0.14615,     0.14715,     0.14815,     0.14915,     0.15015,     0.15115,     0.15215,     0.15315,     0.15415,     0.15516,     0.15616,     0.15716,     0.15816,     0.15916,     0.16016,     0.16116,     0.16216,     0.16316,     0.16416,     0.16517,     0.16617,     0.16717,\n",
       "           0.16817,     0.16917,     0.17017,     0.17117,     0.17217,     0.17317,     0.17417,     0.17518,     0.17618,     0.17718,     0.17818,     0.17918,     0.18018,     0.18118,     0.18218,     0.18318,     0.18418,     0.18519,     0.18619,     0.18719,     0.18819,     0.18919,     0.19019,     0.19119,\n",
       "           0.19219,     0.19319,     0.19419,      0.1952,      0.1962,      0.1972,      0.1982,      0.1992,      0.2002,      0.2012,      0.2022,      0.2032,      0.2042,     0.20521,     0.20621,     0.20721,     0.20821,     0.20921,     0.21021,     0.21121,     0.21221,     0.21321,     0.21421,     0.21522,\n",
       "           0.21622,     0.21722,     0.21822,     0.21922,     0.22022,     0.22122,     0.22222,     0.22322,     0.22422,     0.22523,     0.22623,     0.22723,     0.22823,     0.22923,     0.23023,     0.23123,     0.23223,     0.23323,     0.23423,     0.23524,     0.23624,     0.23724,     0.23824,     0.23924,\n",
       "           0.24024,     0.24124,     0.24224,     0.24324,     0.24424,     0.24525,     0.24625,     0.24725,     0.24825,     0.24925,     0.25025,     0.25125,     0.25225,     0.25325,     0.25425,     0.25526,     0.25626,     0.25726,     0.25826,     0.25926,     0.26026,     0.26126,     0.26226,     0.26326,\n",
       "           0.26426,     0.26527,     0.26627,     0.26727,     0.26827,     0.26927,     0.27027,     0.27127,     0.27227,     0.27327,     0.27427,     0.27528,     0.27628,     0.27728,     0.27828,     0.27928,     0.28028,     0.28128,     0.28228,     0.28328,     0.28428,     0.28529,     0.28629,     0.28729,\n",
       "           0.28829,     0.28929,     0.29029,     0.29129,     0.29229,     0.29329,     0.29429,      0.2953,      0.2963,      0.2973,      0.2983,      0.2993,      0.3003,      0.3013,      0.3023,      0.3033,      0.3043,     0.30531,     0.30631,     0.30731,     0.30831,     0.30931,     0.31031,     0.31131,\n",
       "           0.31231,     0.31331,     0.31431,     0.31532,     0.31632,     0.31732,     0.31832,     0.31932,     0.32032,     0.32132,     0.32232,     0.32332,     0.32432,     0.32533,     0.32633,     0.32733,     0.32833,     0.32933,     0.33033,     0.33133,     0.33233,     0.33333,     0.33433,     0.33534,\n",
       "           0.33634,     0.33734,     0.33834,     0.33934,     0.34034,     0.34134,     0.34234,     0.34334,     0.34434,     0.34535,     0.34635,     0.34735,     0.34835,     0.34935,     0.35035,     0.35135,     0.35235,     0.35335,     0.35435,     0.35536,     0.35636,     0.35736,     0.35836,     0.35936,\n",
       "           0.36036,     0.36136,     0.36236,     0.36336,     0.36436,     0.36537,     0.36637,     0.36737,     0.36837,     0.36937,     0.37037,     0.37137,     0.37237,     0.37337,     0.37437,     0.37538,     0.37638,     0.37738,     0.37838,     0.37938,     0.38038,     0.38138,     0.38238,     0.38338,\n",
       "           0.38438,     0.38539,     0.38639,     0.38739,     0.38839,     0.38939,     0.39039,     0.39139,     0.39239,     0.39339,     0.39439,      0.3954,      0.3964,      0.3974,      0.3984,      0.3994,      0.4004,      0.4014,      0.4024,      0.4034,      0.4044,     0.40541,     0.40641,     0.40741,\n",
       "           0.40841,     0.40941,     0.41041,     0.41141,     0.41241,     0.41341,     0.41441,     0.41542,     0.41642,     0.41742,     0.41842,     0.41942,     0.42042,     0.42142,     0.42242,     0.42342,     0.42442,     0.42543,     0.42643,     0.42743,     0.42843,     0.42943,     0.43043,     0.43143,\n",
       "           0.43243,     0.43343,     0.43443,     0.43544,     0.43644,     0.43744,     0.43844,     0.43944,     0.44044,     0.44144,     0.44244,     0.44344,     0.44444,     0.44545,     0.44645,     0.44745,     0.44845,     0.44945,     0.45045,     0.45145,     0.45245,     0.45345,     0.45445,     0.45546,\n",
       "           0.45646,     0.45746,     0.45846,     0.45946,     0.46046,     0.46146,     0.46246,     0.46346,     0.46446,     0.46547,     0.46647,     0.46747,     0.46847,     0.46947,     0.47047,     0.47147,     0.47247,     0.47347,     0.47447,     0.47548,     0.47648,     0.47748,     0.47848,     0.47948,\n",
       "           0.48048,     0.48148,     0.48248,     0.48348,     0.48448,     0.48549,     0.48649,     0.48749,     0.48849,     0.48949,     0.49049,     0.49149,     0.49249,     0.49349,     0.49449,      0.4955,      0.4965,      0.4975,      0.4985,      0.4995,      0.5005,      0.5015,      0.5025,      0.5035,\n",
       "            0.5045,     0.50551,     0.50651,     0.50751,     0.50851,     0.50951,     0.51051,     0.51151,     0.51251,     0.51351,     0.51451,     0.51552,     0.51652,     0.51752,     0.51852,     0.51952,     0.52052,     0.52152,     0.52252,     0.52352,     0.52452,     0.52553,     0.52653,     0.52753,\n",
       "           0.52853,     0.52953,     0.53053,     0.53153,     0.53253,     0.53353,     0.53453,     0.53554,     0.53654,     0.53754,     0.53854,     0.53954,     0.54054,     0.54154,     0.54254,     0.54354,     0.54454,     0.54555,     0.54655,     0.54755,     0.54855,     0.54955,     0.55055,     0.55155,\n",
       "           0.55255,     0.55355,     0.55455,     0.55556,     0.55656,     0.55756,     0.55856,     0.55956,     0.56056,     0.56156,     0.56256,     0.56356,     0.56456,     0.56557,     0.56657,     0.56757,     0.56857,     0.56957,     0.57057,     0.57157,     0.57257,     0.57357,     0.57457,     0.57558,\n",
       "           0.57658,     0.57758,     0.57858,     0.57958,     0.58058,     0.58158,     0.58258,     0.58358,     0.58458,     0.58559,     0.58659,     0.58759,     0.58859,     0.58959,     0.59059,     0.59159,     0.59259,     0.59359,     0.59459,      0.5956,      0.5966,      0.5976,      0.5986,      0.5996,\n",
       "            0.6006,      0.6016,      0.6026,      0.6036,      0.6046,     0.60561,     0.60661,     0.60761,     0.60861,     0.60961,     0.61061,     0.61161,     0.61261,     0.61361,     0.61461,     0.61562,     0.61662,     0.61762,     0.61862,     0.61962,     0.62062,     0.62162,     0.62262,     0.62362,\n",
       "           0.62462,     0.62563,     0.62663,     0.62763,     0.62863,     0.62963,     0.63063,     0.63163,     0.63263,     0.63363,     0.63463,     0.63564,     0.63664,     0.63764,     0.63864,     0.63964,     0.64064,     0.64164,     0.64264,     0.64364,     0.64464,     0.64565,     0.64665,     0.64765,\n",
       "           0.64865,     0.64965,     0.65065,     0.65165,     0.65265,     0.65365,     0.65465,     0.65566,     0.65666,     0.65766,     0.65866,     0.65966,     0.66066,     0.66166,     0.66266,     0.66366,     0.66466,     0.66567,     0.66667,     0.66767,     0.66867,     0.66967,     0.67067,     0.67167,\n",
       "           0.67267,     0.67367,     0.67467,     0.67568,     0.67668,     0.67768,     0.67868,     0.67968,     0.68068,     0.68168,     0.68268,     0.68368,     0.68468,     0.68569,     0.68669,     0.68769,     0.68869,     0.68969,     0.69069,     0.69169,     0.69269,     0.69369,     0.69469,      0.6957,\n",
       "            0.6967,      0.6977,      0.6987,      0.6997,      0.7007,      0.7017,      0.7027,      0.7037,      0.7047,     0.70571,     0.70671,     0.70771,     0.70871,     0.70971,     0.71071,     0.71171,     0.71271,     0.71371,     0.71471,     0.71572,     0.71672,     0.71772,     0.71872,     0.71972,\n",
       "           0.72072,     0.72172,     0.72272,     0.72372,     0.72472,     0.72573,     0.72673,     0.72773,     0.72873,     0.72973,     0.73073,     0.73173,     0.73273,     0.73373,     0.73473,     0.73574,     0.73674,     0.73774,     0.73874,     0.73974,     0.74074,     0.74174,     0.74274,     0.74374,\n",
       "           0.74474,     0.74575,     0.74675,     0.74775,     0.74875,     0.74975,     0.75075,     0.75175,     0.75275,     0.75375,     0.75475,     0.75576,     0.75676,     0.75776,     0.75876,     0.75976,     0.76076,     0.76176,     0.76276,     0.76376,     0.76476,     0.76577,     0.76677,     0.76777,\n",
       "           0.76877,     0.76977,     0.77077,     0.77177,     0.77277,     0.77377,     0.77477,     0.77578,     0.77678,     0.77778,     0.77878,     0.77978,     0.78078,     0.78178,     0.78278,     0.78378,     0.78478,     0.78579,     0.78679,     0.78779,     0.78879,     0.78979,     0.79079,     0.79179,\n",
       "           0.79279,     0.79379,     0.79479,      0.7958,      0.7968,      0.7978,      0.7988,      0.7998,      0.8008,      0.8018,      0.8028,      0.8038,      0.8048,     0.80581,     0.80681,     0.80781,     0.80881,     0.80981,     0.81081,     0.81181,     0.81281,     0.81381,     0.81481,     0.81582,\n",
       "           0.81682,     0.81782,     0.81882,     0.81982,     0.82082,     0.82182,     0.82282,     0.82382,     0.82482,     0.82583,     0.82683,     0.82783,     0.82883,     0.82983,     0.83083,     0.83183,     0.83283,     0.83383,     0.83483,     0.83584,     0.83684,     0.83784,     0.83884,     0.83984,\n",
       "           0.84084,     0.84184,     0.84284,     0.84384,     0.84484,     0.84585,     0.84685,     0.84785,     0.84885,     0.84985,     0.85085,     0.85185,     0.85285,     0.85385,     0.85485,     0.85586,     0.85686,     0.85786,     0.85886,     0.85986,     0.86086,     0.86186,     0.86286,     0.86386,\n",
       "           0.86486,     0.86587,     0.86687,     0.86787,     0.86887,     0.86987,     0.87087,     0.87187,     0.87287,     0.87387,     0.87487,     0.87588,     0.87688,     0.87788,     0.87888,     0.87988,     0.88088,     0.88188,     0.88288,     0.88388,     0.88488,     0.88589,     0.88689,     0.88789,\n",
       "           0.88889,     0.88989,     0.89089,     0.89189,     0.89289,     0.89389,     0.89489,      0.8959,      0.8969,      0.8979,      0.8989,      0.8999,      0.9009,      0.9019,      0.9029,      0.9039,      0.9049,     0.90591,     0.90691,     0.90791,     0.90891,     0.90991,     0.91091,     0.91191,\n",
       "           0.91291,     0.91391,     0.91491,     0.91592,     0.91692,     0.91792,     0.91892,     0.91992,     0.92092,     0.92192,     0.92292,     0.92392,     0.92492,     0.92593,     0.92693,     0.92793,     0.92893,     0.92993,     0.93093,     0.93193,     0.93293,     0.93393,     0.93493,     0.93594,\n",
       "           0.93694,     0.93794,     0.93894,     0.93994,     0.94094,     0.94194,     0.94294,     0.94394,     0.94494,     0.94595,     0.94695,     0.94795,     0.94895,     0.94995,     0.95095,     0.95195,     0.95295,     0.95395,     0.95495,     0.95596,     0.95696,     0.95796,     0.95896,     0.95996,\n",
       "           0.96096,     0.96196,     0.96296,     0.96396,     0.96496,     0.96597,     0.96697,     0.96797,     0.96897,     0.96997,     0.97097,     0.97197,     0.97297,     0.97397,     0.97497,     0.97598,     0.97698,     0.97798,     0.97898,     0.97998,     0.98098,     0.98198,     0.98298,     0.98398,\n",
       "           0.98498,     0.98599,     0.98699,     0.98799,     0.98899,     0.98999,     0.99099,     0.99199,     0.99299,     0.99399,     0.99499,       0.996,       0.997,       0.998,       0.999,           1]), array([[    0.04067,    0.040688,     0.07263, ...,           1,           1,           1],\n",
       "       [   0.041298,     0.04133,    0.094337, ...,           1,           1,           1],\n",
       "       [   0.059932,    0.059932,    0.099593, ...,           1,           1,           1],\n",
       "       ...,\n",
       "       [   0.049699,    0.049755,    0.093769, ...,           1,           1,           1],\n",
       "       [   0.039033,    0.039033,    0.074444, ...,           1,           1,           1],\n",
       "       [   0.038511,    0.038522,    0.070618, ...,           1,           1,           1]]), 'Confidence', 'Precision'], [array([          0,    0.001001,    0.002002,    0.003003,    0.004004,    0.005005,    0.006006,    0.007007,    0.008008,    0.009009,     0.01001,    0.011011,    0.012012,    0.013013,    0.014014,    0.015015,    0.016016,    0.017017,    0.018018,    0.019019,     0.02002,    0.021021,    0.022022,    0.023023,\n",
       "          0.024024,    0.025025,    0.026026,    0.027027,    0.028028,    0.029029,     0.03003,    0.031031,    0.032032,    0.033033,    0.034034,    0.035035,    0.036036,    0.037037,    0.038038,    0.039039,     0.04004,    0.041041,    0.042042,    0.043043,    0.044044,    0.045045,    0.046046,    0.047047,\n",
       "          0.048048,    0.049049,     0.05005,    0.051051,    0.052052,    0.053053,    0.054054,    0.055055,    0.056056,    0.057057,    0.058058,    0.059059,     0.06006,    0.061061,    0.062062,    0.063063,    0.064064,    0.065065,    0.066066,    0.067067,    0.068068,    0.069069,     0.07007,    0.071071,\n",
       "          0.072072,    0.073073,    0.074074,    0.075075,    0.076076,    0.077077,    0.078078,    0.079079,     0.08008,    0.081081,    0.082082,    0.083083,    0.084084,    0.085085,    0.086086,    0.087087,    0.088088,    0.089089,     0.09009,    0.091091,    0.092092,    0.093093,    0.094094,    0.095095,\n",
       "          0.096096,    0.097097,    0.098098,    0.099099,      0.1001,      0.1011,      0.1021,      0.1031,      0.1041,     0.10511,     0.10611,     0.10711,     0.10811,     0.10911,     0.11011,     0.11111,     0.11211,     0.11311,     0.11411,     0.11512,     0.11612,     0.11712,     0.11812,     0.11912,\n",
       "           0.12012,     0.12112,     0.12212,     0.12312,     0.12412,     0.12513,     0.12613,     0.12713,     0.12813,     0.12913,     0.13013,     0.13113,     0.13213,     0.13313,     0.13413,     0.13514,     0.13614,     0.13714,     0.13814,     0.13914,     0.14014,     0.14114,     0.14214,     0.14314,\n",
       "           0.14414,     0.14515,     0.14615,     0.14715,     0.14815,     0.14915,     0.15015,     0.15115,     0.15215,     0.15315,     0.15415,     0.15516,     0.15616,     0.15716,     0.15816,     0.15916,     0.16016,     0.16116,     0.16216,     0.16316,     0.16416,     0.16517,     0.16617,     0.16717,\n",
       "           0.16817,     0.16917,     0.17017,     0.17117,     0.17217,     0.17317,     0.17417,     0.17518,     0.17618,     0.17718,     0.17818,     0.17918,     0.18018,     0.18118,     0.18218,     0.18318,     0.18418,     0.18519,     0.18619,     0.18719,     0.18819,     0.18919,     0.19019,     0.19119,\n",
       "           0.19219,     0.19319,     0.19419,      0.1952,      0.1962,      0.1972,      0.1982,      0.1992,      0.2002,      0.2012,      0.2022,      0.2032,      0.2042,     0.20521,     0.20621,     0.20721,     0.20821,     0.20921,     0.21021,     0.21121,     0.21221,     0.21321,     0.21421,     0.21522,\n",
       "           0.21622,     0.21722,     0.21822,     0.21922,     0.22022,     0.22122,     0.22222,     0.22322,     0.22422,     0.22523,     0.22623,     0.22723,     0.22823,     0.22923,     0.23023,     0.23123,     0.23223,     0.23323,     0.23423,     0.23524,     0.23624,     0.23724,     0.23824,     0.23924,\n",
       "           0.24024,     0.24124,     0.24224,     0.24324,     0.24424,     0.24525,     0.24625,     0.24725,     0.24825,     0.24925,     0.25025,     0.25125,     0.25225,     0.25325,     0.25425,     0.25526,     0.25626,     0.25726,     0.25826,     0.25926,     0.26026,     0.26126,     0.26226,     0.26326,\n",
       "           0.26426,     0.26527,     0.26627,     0.26727,     0.26827,     0.26927,     0.27027,     0.27127,     0.27227,     0.27327,     0.27427,     0.27528,     0.27628,     0.27728,     0.27828,     0.27928,     0.28028,     0.28128,     0.28228,     0.28328,     0.28428,     0.28529,     0.28629,     0.28729,\n",
       "           0.28829,     0.28929,     0.29029,     0.29129,     0.29229,     0.29329,     0.29429,      0.2953,      0.2963,      0.2973,      0.2983,      0.2993,      0.3003,      0.3013,      0.3023,      0.3033,      0.3043,     0.30531,     0.30631,     0.30731,     0.30831,     0.30931,     0.31031,     0.31131,\n",
       "           0.31231,     0.31331,     0.31431,     0.31532,     0.31632,     0.31732,     0.31832,     0.31932,     0.32032,     0.32132,     0.32232,     0.32332,     0.32432,     0.32533,     0.32633,     0.32733,     0.32833,     0.32933,     0.33033,     0.33133,     0.33233,     0.33333,     0.33433,     0.33534,\n",
       "           0.33634,     0.33734,     0.33834,     0.33934,     0.34034,     0.34134,     0.34234,     0.34334,     0.34434,     0.34535,     0.34635,     0.34735,     0.34835,     0.34935,     0.35035,     0.35135,     0.35235,     0.35335,     0.35435,     0.35536,     0.35636,     0.35736,     0.35836,     0.35936,\n",
       "           0.36036,     0.36136,     0.36236,     0.36336,     0.36436,     0.36537,     0.36637,     0.36737,     0.36837,     0.36937,     0.37037,     0.37137,     0.37237,     0.37337,     0.37437,     0.37538,     0.37638,     0.37738,     0.37838,     0.37938,     0.38038,     0.38138,     0.38238,     0.38338,\n",
       "           0.38438,     0.38539,     0.38639,     0.38739,     0.38839,     0.38939,     0.39039,     0.39139,     0.39239,     0.39339,     0.39439,      0.3954,      0.3964,      0.3974,      0.3984,      0.3994,      0.4004,      0.4014,      0.4024,      0.4034,      0.4044,     0.40541,     0.40641,     0.40741,\n",
       "           0.40841,     0.40941,     0.41041,     0.41141,     0.41241,     0.41341,     0.41441,     0.41542,     0.41642,     0.41742,     0.41842,     0.41942,     0.42042,     0.42142,     0.42242,     0.42342,     0.42442,     0.42543,     0.42643,     0.42743,     0.42843,     0.42943,     0.43043,     0.43143,\n",
       "           0.43243,     0.43343,     0.43443,     0.43544,     0.43644,     0.43744,     0.43844,     0.43944,     0.44044,     0.44144,     0.44244,     0.44344,     0.44444,     0.44545,     0.44645,     0.44745,     0.44845,     0.44945,     0.45045,     0.45145,     0.45245,     0.45345,     0.45445,     0.45546,\n",
       "           0.45646,     0.45746,     0.45846,     0.45946,     0.46046,     0.46146,     0.46246,     0.46346,     0.46446,     0.46547,     0.46647,     0.46747,     0.46847,     0.46947,     0.47047,     0.47147,     0.47247,     0.47347,     0.47447,     0.47548,     0.47648,     0.47748,     0.47848,     0.47948,\n",
       "           0.48048,     0.48148,     0.48248,     0.48348,     0.48448,     0.48549,     0.48649,     0.48749,     0.48849,     0.48949,     0.49049,     0.49149,     0.49249,     0.49349,     0.49449,      0.4955,      0.4965,      0.4975,      0.4985,      0.4995,      0.5005,      0.5015,      0.5025,      0.5035,\n",
       "            0.5045,     0.50551,     0.50651,     0.50751,     0.50851,     0.50951,     0.51051,     0.51151,     0.51251,     0.51351,     0.51451,     0.51552,     0.51652,     0.51752,     0.51852,     0.51952,     0.52052,     0.52152,     0.52252,     0.52352,     0.52452,     0.52553,     0.52653,     0.52753,\n",
       "           0.52853,     0.52953,     0.53053,     0.53153,     0.53253,     0.53353,     0.53453,     0.53554,     0.53654,     0.53754,     0.53854,     0.53954,     0.54054,     0.54154,     0.54254,     0.54354,     0.54454,     0.54555,     0.54655,     0.54755,     0.54855,     0.54955,     0.55055,     0.55155,\n",
       "           0.55255,     0.55355,     0.55455,     0.55556,     0.55656,     0.55756,     0.55856,     0.55956,     0.56056,     0.56156,     0.56256,     0.56356,     0.56456,     0.56557,     0.56657,     0.56757,     0.56857,     0.56957,     0.57057,     0.57157,     0.57257,     0.57357,     0.57457,     0.57558,\n",
       "           0.57658,     0.57758,     0.57858,     0.57958,     0.58058,     0.58158,     0.58258,     0.58358,     0.58458,     0.58559,     0.58659,     0.58759,     0.58859,     0.58959,     0.59059,     0.59159,     0.59259,     0.59359,     0.59459,      0.5956,      0.5966,      0.5976,      0.5986,      0.5996,\n",
       "            0.6006,      0.6016,      0.6026,      0.6036,      0.6046,     0.60561,     0.60661,     0.60761,     0.60861,     0.60961,     0.61061,     0.61161,     0.61261,     0.61361,     0.61461,     0.61562,     0.61662,     0.61762,     0.61862,     0.61962,     0.62062,     0.62162,     0.62262,     0.62362,\n",
       "           0.62462,     0.62563,     0.62663,     0.62763,     0.62863,     0.62963,     0.63063,     0.63163,     0.63263,     0.63363,     0.63463,     0.63564,     0.63664,     0.63764,     0.63864,     0.63964,     0.64064,     0.64164,     0.64264,     0.64364,     0.64464,     0.64565,     0.64665,     0.64765,\n",
       "           0.64865,     0.64965,     0.65065,     0.65165,     0.65265,     0.65365,     0.65465,     0.65566,     0.65666,     0.65766,     0.65866,     0.65966,     0.66066,     0.66166,     0.66266,     0.66366,     0.66466,     0.66567,     0.66667,     0.66767,     0.66867,     0.66967,     0.67067,     0.67167,\n",
       "           0.67267,     0.67367,     0.67467,     0.67568,     0.67668,     0.67768,     0.67868,     0.67968,     0.68068,     0.68168,     0.68268,     0.68368,     0.68468,     0.68569,     0.68669,     0.68769,     0.68869,     0.68969,     0.69069,     0.69169,     0.69269,     0.69369,     0.69469,      0.6957,\n",
       "            0.6967,      0.6977,      0.6987,      0.6997,      0.7007,      0.7017,      0.7027,      0.7037,      0.7047,     0.70571,     0.70671,     0.70771,     0.70871,     0.70971,     0.71071,     0.71171,     0.71271,     0.71371,     0.71471,     0.71572,     0.71672,     0.71772,     0.71872,     0.71972,\n",
       "           0.72072,     0.72172,     0.72272,     0.72372,     0.72472,     0.72573,     0.72673,     0.72773,     0.72873,     0.72973,     0.73073,     0.73173,     0.73273,     0.73373,     0.73473,     0.73574,     0.73674,     0.73774,     0.73874,     0.73974,     0.74074,     0.74174,     0.74274,     0.74374,\n",
       "           0.74474,     0.74575,     0.74675,     0.74775,     0.74875,     0.74975,     0.75075,     0.75175,     0.75275,     0.75375,     0.75475,     0.75576,     0.75676,     0.75776,     0.75876,     0.75976,     0.76076,     0.76176,     0.76276,     0.76376,     0.76476,     0.76577,     0.76677,     0.76777,\n",
       "           0.76877,     0.76977,     0.77077,     0.77177,     0.77277,     0.77377,     0.77477,     0.77578,     0.77678,     0.77778,     0.77878,     0.77978,     0.78078,     0.78178,     0.78278,     0.78378,     0.78478,     0.78579,     0.78679,     0.78779,     0.78879,     0.78979,     0.79079,     0.79179,\n",
       "           0.79279,     0.79379,     0.79479,      0.7958,      0.7968,      0.7978,      0.7988,      0.7998,      0.8008,      0.8018,      0.8028,      0.8038,      0.8048,     0.80581,     0.80681,     0.80781,     0.80881,     0.80981,     0.81081,     0.81181,     0.81281,     0.81381,     0.81481,     0.81582,\n",
       "           0.81682,     0.81782,     0.81882,     0.81982,     0.82082,     0.82182,     0.82282,     0.82382,     0.82482,     0.82583,     0.82683,     0.82783,     0.82883,     0.82983,     0.83083,     0.83183,     0.83283,     0.83383,     0.83483,     0.83584,     0.83684,     0.83784,     0.83884,     0.83984,\n",
       "           0.84084,     0.84184,     0.84284,     0.84384,     0.84484,     0.84585,     0.84685,     0.84785,     0.84885,     0.84985,     0.85085,     0.85185,     0.85285,     0.85385,     0.85485,     0.85586,     0.85686,     0.85786,     0.85886,     0.85986,     0.86086,     0.86186,     0.86286,     0.86386,\n",
       "           0.86486,     0.86587,     0.86687,     0.86787,     0.86887,     0.86987,     0.87087,     0.87187,     0.87287,     0.87387,     0.87487,     0.87588,     0.87688,     0.87788,     0.87888,     0.87988,     0.88088,     0.88188,     0.88288,     0.88388,     0.88488,     0.88589,     0.88689,     0.88789,\n",
       "           0.88889,     0.88989,     0.89089,     0.89189,     0.89289,     0.89389,     0.89489,      0.8959,      0.8969,      0.8979,      0.8989,      0.8999,      0.9009,      0.9019,      0.9029,      0.9039,      0.9049,     0.90591,     0.90691,     0.90791,     0.90891,     0.90991,     0.91091,     0.91191,\n",
       "           0.91291,     0.91391,     0.91491,     0.91592,     0.91692,     0.91792,     0.91892,     0.91992,     0.92092,     0.92192,     0.92292,     0.92392,     0.92492,     0.92593,     0.92693,     0.92793,     0.92893,     0.92993,     0.93093,     0.93193,     0.93293,     0.93393,     0.93493,     0.93594,\n",
       "           0.93694,     0.93794,     0.93894,     0.93994,     0.94094,     0.94194,     0.94294,     0.94394,     0.94494,     0.94595,     0.94695,     0.94795,     0.94895,     0.94995,     0.95095,     0.95195,     0.95295,     0.95395,     0.95495,     0.95596,     0.95696,     0.95796,     0.95896,     0.95996,\n",
       "           0.96096,     0.96196,     0.96296,     0.96396,     0.96496,     0.96597,     0.96697,     0.96797,     0.96897,     0.96997,     0.97097,     0.97197,     0.97297,     0.97397,     0.97497,     0.97598,     0.97698,     0.97798,     0.97898,     0.97998,     0.98098,     0.98198,     0.98298,     0.98398,\n",
       "           0.98498,     0.98599,     0.98699,     0.98799,     0.98899,     0.98999,     0.99099,     0.99199,     0.99299,     0.99399,     0.99499,       0.996,       0.997,       0.998,       0.999,           1]), array([[          1,           1,           1, ...,           0,           0,           0],\n",
       "       [          1,           1,     0.96429, ...,           0,           0,           0],\n",
       "       [    0.97222,     0.97222,     0.94444, ...,           0,           0,           0],\n",
       "       ...,\n",
       "       [          1,           1,      0.9697, ...,           0,           0,           0],\n",
       "       [          1,           1,     0.95238, ...,           0,           0,           0],\n",
       "       [          1,           1,           1, ...,           0,           0,           0]]), 'Confidence', 'Recall']]\n",
       "fitness: 0.5026684366768392\n",
       "keys: ['metrics/precision(B)', 'metrics/recall(B)', 'metrics/mAP50(B)', 'metrics/mAP50-95(B)']\n",
       "maps: array([    0.28125,     0.66908,     0.19806,     0.61673,     0.61765,     0.51425,     0.47293,     0.38987,     0.52708,     0.58744,     0.39853,     0.40234])\n",
       "names: {0: 'birth_date', 1: 'death_book', 2: 'death_date', 3: 'funeral_date', 4: 'grave_id', 5: 'grave_location', 6: 'information', 7: 'information_source', 8: 'key', 9: 'name', 10: 'nationality', 11: 'rank'}\n",
       "plot: True\n",
       "results_dict: {'metrics/precision(B)': 0.7107124147011213, 'metrics/recall(B)': 0.7476884914077114, 'metrics/mAP50(B)': 0.7702719724569594, 'metrics/mAP50-95(B)': 0.472934710479048, 'fitness': 0.5026684366768392}\n",
       "save_dir: WindowsPath('c:/Users/Fergons/Desktop/KNN/KIE-1/runs/detect/train73')\n",
       "speed: {'preprocess': 1.8052033015659876, 'inference': 6.310488496507917, 'loss': 0.0, 'postprocess': 1.7517294202532088}\n",
       "task: 'detect'"
      ]
     },
     "execution_count": 3,
     "metadata": {},
     "output_type": "execute_result"
    }
   ],
   "source": [
    "# model = YOLO('runs/detect/train9/weights/best.pt')\n",
    "# test set results\n",
    "model.val(data='data/VHA_YOLO/training/dataset_test.yaml')"
   ]
  }
 ],
 "metadata": {
  "kernelspec": {
   "display_name": ".venv",
   "language": "python",
   "name": "python3"
  },
  "language_info": {
   "codemirror_mode": {
    "name": "ipython",
    "version": 3
   },
   "file_extension": ".py",
   "mimetype": "text/x-python",
   "name": "python",
   "nbconvert_exporter": "python",
   "pygments_lexer": "ipython3",
   "version": "3.8.10"
  }
 },
 "nbformat": 4,
 "nbformat_minor": 2
}
