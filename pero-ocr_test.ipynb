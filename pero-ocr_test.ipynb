{
 "cells": [
  {
   "cell_type": "code",
   "execution_count": 1,
   "metadata": {},
   "outputs": [
    {
     "name": "stdout",
     "output_type": "stream",
     "text": [
      "numba available, importing jit\n",
      "LayoutEngine params are line_end_weight:1.0 vertical_line_connection_range:3 smooth_line_predictions:False line_detection_threshold:0.2 adaptive_downsample:True\n"
     ]
    }
   ],
   "source": [
    "import os\n",
    "import configparser\n",
    "import cv2\n",
    "import numpy as np\n",
    "from pero_ocr.document_ocr.layout import PageLayout\n",
    "from pero_ocr.document_ocr.page_parser import PageParser\n",
    "\n",
    "# Read config file.\n",
    "config_path = \"./pero_eu_cz_print_newspapers_2022-09-26/config.ini\"\n",
    "config = configparser.ConfigParser()\n",
    "config.read(config_path)\n",
    "\n",
    "# Init the OCR pipeline. \n",
    "# You have to specify config_path to be able to use relative paths\n",
    "# inside the config file.\n",
    "page_parser = PageParser(config, config_path=os.path.dirname(config_path))"
   ]
  },
  {
   "cell_type": "code",
   "execution_count": 2,
   "metadata": {},
   "outputs": [
    {
     "name": "stdout",
     "output_type": "stream",
     "text": [
      "NET INPUT 98304 Mpx.\n",
      "NET INPUT 286720 Mpx.\n",
      "GET MAPS TIME: 0.36632704734802246\n",
      "MAP RES: (593, 421, 5)\n"
     ]
    },
    {
     "name": "stderr",
     "output_type": "stream",
     "text": [
      "c:\\Users\\Fergons\\Desktop\\KNN\\KIE-1\\.venv\\lib\\site-packages\\pero_ocr\\layout_engines\\layout_helpers.py:184: ShapelyDeprecationWarning: The 'cascaded_union()' function is deprecated. Use 'unary_union()' instead.\n",
      "  return cascaded_union(triangles)\n",
      "c:\\Users\\Fergons\\Desktop\\KNN\\KIE-1\\.venv\\lib\\site-packages\\pero_ocr\\layout_engines\\smart_sorter.py:319: ShapelyDeprecationWarning: The array interface is deprecated and will no longer work in Shapely 2.0. Convert the '.coords' to a numpy array instead.\n",
      "  line.baseline = SmartRegionSorter.rotate_line(line.baseline, angle)\n",
      "c:\\Users\\Fergons\\Desktop\\KNN\\KIE-1\\.venv\\lib\\site-packages\\pero_ocr\\document_ocr\\crop_engine.py:102: NumbaWarning: \u001b[1m\n",
      "Compilation is falling back to object mode WITH looplifting enabled because Function \"reverse_line_mapping\" failed type inference due to: \u001b[1m\u001b[1mnon-precise type pyobject\u001b[0m\n",
      "\u001b[0m\u001b[1mDuring: typing of argument at c:\\Users\\Fergons\\Desktop\\KNN\\KIE-1\\.venv\\lib\\site-packages\\pero_ocr\\document_ocr\\crop_engine.py (104)\u001b[0m\n",
      "\u001b[1m\n",
      "File \".venv\\lib\\site-packages\\pero_ocr\\document_ocr\\crop_engine.py\", line 104:\u001b[0m\n",
      "\u001b[1m    def reverse_line_mapping(self, forward_mapping, sample_positions, sampled_values):\n",
      "\u001b[1m        backward_mapping = np.zeros_like(sample_positions)\n",
      "\u001b[0m        \u001b[1m^\u001b[0m\u001b[0m\n",
      "\u001b[0m\n",
      "  @jit\n",
      "c:\\Users\\Fergons\\Desktop\\KNN\\KIE-1\\.venv\\lib\\site-packages\\pero_ocr\\document_ocr\\crop_engine.py:102: NumbaWarning: \u001b[1m\n",
      "Compilation is falling back to object mode WITHOUT looplifting enabled because Function \"reverse_line_mapping\" failed type inference due to: \u001b[1m\u001b[1mCannot determine Numba type of <class 'numba.core.dispatcher.LiftedLoop'>\u001b[0m\n",
      "\u001b[1m\n",
      "File \".venv\\lib\\site-packages\\pero_ocr\\document_ocr\\crop_engine.py\", line 106:\u001b[0m\n",
      "\u001b[1m    def reverse_line_mapping(self, forward_mapping, sample_positions, sampled_values):\n",
      "        <source elided>\n",
      "        forward_position = 0\n",
      "\u001b[1m        for i in range(sample_positions.shape[0]):\n",
      "\u001b[0m        \u001b[1m^\u001b[0m\u001b[0m\n",
      "\u001b[0m\u001b[0m\n",
      "  @jit\n",
      "c:\\Users\\Fergons\\Desktop\\KNN\\KIE-1\\.venv\\lib\\site-packages\\numba\\core\\object_mode_passes.py:151: NumbaWarning: \u001b[1mFunction \"reverse_line_mapping\" was compiled in object mode without forceobj=True, but has lifted loops.\n",
      "\u001b[1m\n",
      "File \".venv\\lib\\site-packages\\pero_ocr\\document_ocr\\crop_engine.py\", line 104:\u001b[0m\n",
      "\u001b[1m    def reverse_line_mapping(self, forward_mapping, sample_positions, sampled_values):\n",
      "\u001b[1m        backward_mapping = np.zeros_like(sample_positions)\n",
      "\u001b[0m        \u001b[1m^\u001b[0m\u001b[0m\n",
      "\u001b[0m\n",
      "  warnings.warn(errors.NumbaWarning(warn_msg,\n",
      "c:\\Users\\Fergons\\Desktop\\KNN\\KIE-1\\.venv\\lib\\site-packages\\numba\\core\\object_mode_passes.py:161: NumbaDeprecationWarning: \u001b[1m\n",
      "Fall-back from the nopython compilation path to the object mode compilation path has been detected, this is deprecated behaviour.\n",
      "\n",
      "For more information visit https://numba.pydata.org/numba-doc/latest/reference/deprecation.html#deprecation-of-object-mode-fall-back-behaviour-when-using-jit\n",
      "\u001b[1m\n",
      "File \".venv\\lib\\site-packages\\pero_ocr\\document_ocr\\crop_engine.py\", line 104:\u001b[0m\n",
      "\u001b[1m    def reverse_line_mapping(self, forward_mapping, sample_positions, sampled_values):\n",
      "\u001b[1m        backward_mapping = np.zeros_like(sample_positions)\n",
      "\u001b[0m        \u001b[1m^\u001b[0m\u001b[0m\n",
      "\u001b[0m\n",
      "  warnings.warn(errors.NumbaDeprecationWarning(msg,\n"
     ]
    }
   ],
   "source": [
    "input_image_path = \"data/VHA/00002.jpg\"\n",
    "image = cv2.imread(input_image_path, 1)\n",
    "\n",
    "# Init empty page content. \n",
    "# This object will be updated by the ocr pipeline. id can be any string and it is used to identify the page.\n",
    "page_layout = PageLayout(id=input_image_path,\n",
    "     page_size=(image.shape[0], image.shape[1]))\n",
    "\n",
    "# Process the image by the OCR pipeline\n",
    "page_layout = page_parser.process_page(image, page_layout)\n",
    "\n",
    "page_layout.to_pagexml('output_page.xml') # Save results as Page XML.\n",
    "page_layout.to_altoxml('output_ALTO.xml') # Save results as ALTO XML.\n",
    "\n",
    "# Render detected text regions and text lines into the image and\n",
    "# save it into a file.\n",
    "rendered_image = page_layout.render_to_image(image) \n",
    "cv2.imwrite('page_image_render.jpg', rendered_image)\n",
    "\n",
    "# Save each cropped text line in a separate .jpg file.\n",
    "for region in page_layout.regions:\n",
    "  for line in region.lines:\n",
    "     cv2.imwrite(f'file_id-{line.id}.jpg', line.crop.astype(np.uint8))"
   ]
  }
 ],
 "metadata": {
  "kernelspec": {
   "display_name": ".venv",
   "language": "python",
   "name": "python3"
  },
  "language_info": {
   "codemirror_mode": {
    "name": "ipython",
    "version": 3
   },
   "file_extension": ".py",
   "mimetype": "text/x-python",
   "name": "python",
   "nbconvert_exporter": "python",
   "pygments_lexer": "ipython3",
   "version": "3.8.10"
  }
 },
 "nbformat": 4,
 "nbformat_minor": 2
}
